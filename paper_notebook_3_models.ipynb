{
 "cells": [
  {
   "cell_type": "markdown",
   "metadata": {},
   "source": [
    "## Head <a name=\"head\"></a>"
   ]
  },
  {
   "cell_type": "code",
   "execution_count": 1,
   "metadata": {
    "ExecuteTime": {
     "end_time": "2021-11-02T14:48:50.123587Z",
     "start_time": "2021-11-02T14:48:47.642505Z"
    }
   },
   "outputs": [
    {
     "data": {
      "text/html": [
       "        <script type=\"text/javascript\">\n",
       "        window.PlotlyConfig = {MathJaxConfig: 'local'};\n",
       "        if (window.MathJax) {MathJax.Hub.Config({SVG: {font: \"STIX-Web\"}});}\n",
       "        if (typeof require !== 'undefined') {\n",
       "        require.undef(\"plotly\");\n",
       "        requirejs.config({\n",
       "            paths: {\n",
       "                'plotly': ['https://cdn.plot.ly/plotly-latest.min']\n",
       "            }\n",
       "        });\n",
       "        require(['plotly'], function(Plotly) {\n",
       "            window._Plotly = Plotly;\n",
       "        });\n",
       "        }\n",
       "        </script>\n",
       "        "
      ]
     },
     "metadata": {},
     "output_type": "display_data"
    }
   ],
   "source": [
    "import pandas as pd\n",
    "import numpy as np\n",
    "import pickle \n",
    "import datetime\n",
    "\n",
    "import itertools\n",
    "from itertools import product\n",
    "from tqdm.notebook import tqdm\n",
    "\n",
    "import matplotlib\n",
    "import matplotlib.pyplot as plt\n",
    "import seaborn as sns\n",
    "from plotly.offline import download_plotlyjs, init_notebook_mode, plot, iplot\n",
    "from plotly import graph_objs as go\n",
    "init_notebook_mode(connected = True)\n",
    "\n",
    "from utils import tsplot, invboxcox\n",
    "from ts_stat_tests import ks_2s_test, ljungboxtest\n",
    "\n",
    "import statsmodels.formula.api as smf\n",
    "import statsmodels.tsa.api as smt\n",
    "import statsmodels.api as sm\n",
    "import scipy.stats as scs\n",
    "from scipy.optimize import minimize\n",
    "\n",
    "from sklearn.metrics import mean_squared_error\n",
    "from sklearn.metrics import mean_absolute_error\n",
    "from sklearn.metrics import r2_score\n",
    "\n",
    "import fbprophet\n",
    "\n",
    "import greykite\n",
    "import greykite.common.constants as cst\n",
    "from greykite.framework.input.univariate_time_series import UnivariateTimeSeries\n",
    "from datetime import datetime, timedelta\n",
    "from greykite.common.data_loader import DataLoader\n",
    "from greykite.framework.templates.autogen.forecast_config import ForecastConfig\n",
    "from greykite.framework.templates.autogen.forecast_config import MetadataParam\n",
    "from greykite.framework.templates.forecaster import Forecaster\n",
    "from greykite.framework.templates.model_templates import ModelTemplateEnum \n",
    "from greykite.framework.utils.result_summary import summarize_grid_search_results\n",
    "from greykite.algo.changepoint.adalasso.changepoint_detector import ChangepointDetector\n",
    "import plotly\n",
    "%matplotlib inline\n",
    "\n",
    "import warnings\n",
    "warnings.filterwarnings('ignore')\n",
    "\n",
    "pd.set_option('display.max_rows', 4000)\n",
    "pd.set_option('display.max_columns', 100)\n",
    "pd.set_option('display.float_format', '{:.6f}'.format)\n"
   ]
  },
  {
   "cell_type": "markdown",
   "metadata": {},
   "source": [
    "## Load'n'cook <a name=\"loadncook\"></a>"
   ]
  },
  {
   "cell_type": "markdown",
   "metadata": {},
   "source": [
    "## Load <a name=\"load\"></a>"
   ]
  },
  {
   "cell_type": "code",
   "execution_count": 2,
   "metadata": {
    "ExecuteTime": {
     "end_time": "2021-11-02T14:48:50.210912Z",
     "start_time": "2021-11-02T14:48:50.123587Z"
    }
   },
   "outputs": [],
   "source": [
    "tmp = pd.read_csv('parsed_data.csv')\n",
    "tmp.columns = ['year', 'month', 'kbk_code', 'sb', 'rb', 'lb']"
   ]
  },
  {
   "cell_type": "markdown",
   "metadata": {},
   "source": [
    "## Cook <a name=\"load\"></a>"
   ]
  },
  {
   "cell_type": "code",
   "execution_count": 3,
   "metadata": {
    "ExecuteTime": {
     "end_time": "2021-11-02T14:48:50.312849Z",
     "start_time": "2021-11-02T14:48:50.210912Z"
    }
   },
   "outputs": [],
   "source": [
    "month_dict = {\n",
    "    \"январь\": 1,\n",
    "    \"февраль\": 2,\n",
    "    \"март\": 3,\n",
    "    \"апрель\": 4,\n",
    "    \"май\": 5,\n",
    "    \"июнь\": 6,\n",
    "    \"июль\": 7,\n",
    "    \"август\": 8,\n",
    "    \"сентябрь\": 9,\n",
    "    \"октябрь\": 10,\n",
    "    \"ноябрь\": 11,\n",
    "    \"декабрь\": 12\n",
    "}\n",
    "\n",
    "# with a change in legislation, the budget classification code could change\n",
    "kbk_dict = {\n",
    "    '101101': '101110',\n",
    "    '101102': '101110',\n",
    "    '101103': '101110',\n",
    "    '101104': '101110',\n",
    "    '101110': '101110'\n",
    "\n",
    "}\n",
    "\n",
    "tmp['kbk_code'] = tmp['kbk_code'].apply(lambda x: str(x))\n",
    "tmp['month'] = tmp['month'].apply(lambda x: str(x).strip())\n",
    "tmp['month'] = tmp['month'].map(month_dict)\n",
    "tmp = tmp.sort_values(by=['kbk_code', 'year', 'month'], ascending = (True, True, True))\n",
    "\n",
    "tmp = tmp.query('year >= 2009')\n",
    "tmp['kbk_code_new'] = tmp['kbk_code'].map(kbk_dict)\n",
    "tmp['rb'] = tmp['rb'].astype(float)\n",
    "_tmp = tmp.query('kbk_code_new == \"101110\"')"
   ]
  },
  {
   "cell_type": "code",
   "execution_count": 4,
   "metadata": {
    "ExecuteTime": {
     "end_time": "2021-11-02T14:48:50.430375Z",
     "start_time": "2021-11-02T14:48:50.312849Z"
    }
   },
   "outputs": [
    {
     "data": {
      "text/html": [
       "<div>\n",
       "<style scoped>\n",
       "    .dataframe tbody tr th:only-of-type {\n",
       "        vertical-align: middle;\n",
       "    }\n",
       "\n",
       "    .dataframe tbody tr th {\n",
       "        vertical-align: top;\n",
       "    }\n",
       "\n",
       "    .dataframe thead th {\n",
       "        text-align: right;\n",
       "    }\n",
       "</style>\n",
       "<table border=\"1\" class=\"dataframe\">\n",
       "  <thead>\n",
       "    <tr style=\"text-align: right;\">\n",
       "      <th></th>\n",
       "      <th>ds</th>\n",
       "      <th>year</th>\n",
       "      <th>month</th>\n",
       "      <th>y</th>\n",
       "    </tr>\n",
       "  </thead>\n",
       "  <tbody>\n",
       "    <tr>\n",
       "      <th>0</th>\n",
       "      <td>2009-01-01</td>\n",
       "      <td>2009</td>\n",
       "      <td>1</td>\n",
       "      <td>68915876000.000000</td>\n",
       "    </tr>\n",
       "    <tr>\n",
       "      <th>1</th>\n",
       "      <td>2009-02-01</td>\n",
       "      <td>2009</td>\n",
       "      <td>2</td>\n",
       "      <td>60210075000.000000</td>\n",
       "    </tr>\n",
       "    <tr>\n",
       "      <th>2</th>\n",
       "      <td>2009-03-01</td>\n",
       "      <td>2009</td>\n",
       "      <td>3</td>\n",
       "      <td>65476422000.000000</td>\n",
       "    </tr>\n",
       "    <tr>\n",
       "      <th>3</th>\n",
       "      <td>2009-04-01</td>\n",
       "      <td>2009</td>\n",
       "      <td>4</td>\n",
       "      <td>37704039000.000000</td>\n",
       "    </tr>\n",
       "    <tr>\n",
       "      <th>4</th>\n",
       "      <td>2009-05-01</td>\n",
       "      <td>2009</td>\n",
       "      <td>5</td>\n",
       "      <td>20508038000.000000</td>\n",
       "    </tr>\n",
       "  </tbody>\n",
       "</table>\n",
       "</div>"
      ],
      "text/plain": [
       "          ds  year  month                  y\n",
       "0 2009-01-01  2009      1 68915876000.000000\n",
       "1 2009-02-01  2009      2 60210075000.000000\n",
       "2 2009-03-01  2009      3 65476422000.000000\n",
       "3 2009-04-01  2009      4 37704039000.000000\n",
       "4 2009-05-01  2009      5 20508038000.000000"
      ]
     },
     "execution_count": 4,
     "metadata": {},
     "output_type": "execute_result"
    }
   ],
   "source": [
    "df = pd.DataFrame()\n",
    "\n",
    "array_of_year = np.unique(tmp['year'])\n",
    "\n",
    "# tax receipts are indicated not for the period, but cumulatively as of the date\n",
    "for year in array_of_year:\n",
    "    __tmp = _tmp.query('year == @year')\n",
    "    __tmp['amount'] = (_tmp['rb'] - _tmp['rb'].shift(1))\n",
    "    __tmp.loc[__tmp['month'] == 1, 'amount'] = __tmp['rb']\n",
    "    #tmp['amount'].fillna(tmp['rb'], inplace = True)\n",
    "    __tmp['amount'] = __tmp['amount']*1000\n",
    "    df = df.append(__tmp)\n",
    "    \n",
    "df['ds'] = df['year'].astype(str) + '-' + df['month'].astype(str) + '-' + '01'\n",
    "df['ds'] = pd.to_datetime(df['ds'])\n",
    "\n",
    "columns_ordered = ['ds', 'year', 'month', 'kbk_code_new', 'amount']\n",
    "\n",
    "df = df[columns_ordered]\n",
    "df = df.groupby(['ds', 'year', 'month'], as_index = False).agg({'amount': 'sum'})\n",
    "\n",
    "# the website lacks data for October 2019 and November 2019 \n",
    "# The data was requested from the State Revenue Office of the Ministry of Finance of the Republic of Kazakhstan\n",
    "october_data = [['2019-10-01', 2019, 10, 127347435814]]\n",
    "october_data = pd.DataFrame(october_data, columns = df.columns)\n",
    "october_data['ds'] = pd.to_datetime(october_data['ds'])\n",
    "\n",
    "df = df.append(october_data)\n",
    "df.loc[df['ds'] == \"2019-11-01\", 'amount'] = 188544740679\n",
    "df = df.sort_values(by=['ds'], ascending = True) \\\n",
    "       .reset_index(drop = True) \\\n",
    "       .rename(columns={'amount': 'y'})\n",
    "\n",
    "df.head()"
   ]
  },
  {
   "cell_type": "code",
   "execution_count": 5,
   "metadata": {
    "ExecuteTime": {
     "end_time": "2021-11-02T14:48:50.460499Z",
     "start_time": "2021-11-02T14:48:50.430375Z"
    }
   },
   "outputs": [],
   "source": [
    "train_date_start = '2011-01-01'\n",
    "train_date_end = '2018-12-01'\n",
    "test_date_start = '2019-01-01'\n",
    "test_date_end = '2019-12-01'\n",
    "\n",
    "train_df = df.query('ds >= @train_date_start and ds <= @train_date_end')\n",
    "test_df = df.query('ds >= @test_date_start and ds <= @test_date_end')"
   ]
  },
  {
   "cell_type": "markdown",
   "metadata": {},
   "source": [
    "## EDA <a name=\"eda\"></a>"
   ]
  },
  {
   "cell_type": "markdown",
   "metadata": {},
   "source": [
    "### Dispersion analysis <a name=\"dispersion\"></a>"
   ]
  },
  {
   "cell_type": "code",
   "execution_count": 6,
   "metadata": {
    "ExecuteTime": {
     "end_time": "2021-11-02T14:48:50.476473Z",
     "start_time": "2021-11-02T14:48:50.460499Z"
    }
   },
   "outputs": [
    {
     "data": {
      "text/html": [
       "<div>\n",
       "<style scoped>\n",
       "    .dataframe tbody tr th:only-of-type {\n",
       "        vertical-align: middle;\n",
       "    }\n",
       "\n",
       "    .dataframe tbody tr th {\n",
       "        vertical-align: top;\n",
       "    }\n",
       "\n",
       "    .dataframe thead th {\n",
       "        text-align: right;\n",
       "    }\n",
       "</style>\n",
       "<table border=\"1\" class=\"dataframe\">\n",
       "  <thead>\n",
       "    <tr style=\"text-align: right;\">\n",
       "      <th></th>\n",
       "      <th>ds</th>\n",
       "      <th>year</th>\n",
       "      <th>month</th>\n",
       "      <th>y</th>\n",
       "    </tr>\n",
       "  </thead>\n",
       "  <tbody>\n",
       "  </tbody>\n",
       "</table>\n",
       "</div>"
      ],
      "text/plain": [
       "Empty DataFrame\n",
       "Columns: [ds, year, month, y]\n",
       "Index: []"
      ]
     },
     "execution_count": 6,
     "metadata": {},
     "output_type": "execute_result"
    }
   ],
   "source": [
    "train_df \\\n",
    "    .query('y <= 0') "
   ]
  },
  {
   "cell_type": "code",
   "execution_count": 7,
   "metadata": {
    "ExecuteTime": {
     "end_time": "2021-11-02T14:48:50.492484Z",
     "start_time": "2021-11-02T14:48:50.476473Z"
    }
   },
   "outputs": [
    {
     "name": "stdout",
     "output_type": "stream",
     "text": [
      "Null hypothesis is rejected with D=0.6354166666666666, p=0.00013371527222161284 for a=0.05\n",
      "The distributions differ\n"
     ]
    },
    {
     "data": {
      "text/plain": [
       "(0.6354166666666666, 0.00013371527222161284, 0.4158319665581168)"
      ]
     },
     "execution_count": 7,
     "metadata": {},
     "output_type": "execute_result"
    }
   ],
   "source": [
    "ks_2s_test(0.05, train_df['y'], test_df['y'])"
   ]
  },
  {
   "cell_type": "code",
   "execution_count": 8,
   "metadata": {
    "ExecuteTime": {
     "end_time": "2021-11-02T14:48:50.508501Z",
     "start_time": "2021-11-02T14:48:50.492484Z"
    }
   },
   "outputs": [
    {
     "name": "stdout",
     "output_type": "stream",
     "text": [
      "mean1=89458339354.166672, mean2=121809543937.500000\n",
      "variance1=1575218456995795566592.000000, variance2=5344724687834895613952.000000\n"
     ]
    }
   ],
   "source": [
    "y = train_df.y.values\n",
    "split = round(len(y) / 2)\n",
    "y1, y2 = y[0:split], y[split:]\n",
    "mean1, mean2 = y1.mean(), y2.mean()\n",
    "var1, var2 = y1.var(), y2.var()\n",
    "print('mean1=%f, mean2=%f' % (mean1, mean2))\n",
    "print('variance1=%f, variance2=%f' % (var1, var2))"
   ]
  },
  {
   "cell_type": "code",
   "execution_count": 9,
   "metadata": {
    "ExecuteTime": {
     "end_time": "2021-11-02T14:48:50.935274Z",
     "start_time": "2021-11-02T14:48:50.508501Z"
    },
    "scrolled": true
   },
   "outputs": [
    {
     "name": "stdout",
     "output_type": "stream",
     "text": [
      "Dickey-Fuller criteria: p=0.958632\n",
      "Box-cox transformation optimal parameter: -0.012968\n"
     ]
    },
    {
     "data": {
      "image/png": "[encoded data removed]",
      "text/plain": [
       "<Figure size 864x504 with 3 Axes>"
      ]
     },
     "metadata": {
      "needs_background": "light"
     },
     "output_type": "display_data"
    }
   ],
   "source": [
    "train_df['y_box'], lmbda = scs.boxcox(train_df.y) \n",
    "tsplot(train_df.y_box, lags=30)\n",
    "print(\"Box-cox transformation optimal parameter: %f\" % lmbda)"
   ]
  },
  {
   "cell_type": "code",
   "execution_count": 10,
   "metadata": {
    "ExecuteTime": {
     "end_time": "2021-11-02T14:48:50.952047Z",
     "start_time": "2021-11-02T14:48:50.935274Z"
    }
   },
   "outputs": [
    {
     "name": "stdout",
     "output_type": "stream",
     "text": [
      "mean1=21.446390, mean2=21.622092\n",
      "variance1=0.085029, variance2=0.158879\n"
     ]
    }
   ],
   "source": [
    "y_1 = train_df.y_box.values\n",
    "split = round(len(y_1) / 2)\n",
    "y1, y2 = y_1[0:split], y_1[split:]\n",
    "\n",
    "mean1, mean2 = y1.mean(), y2.mean()\n",
    "var1, var2 = y1.var(), y2.var()\n",
    "print('mean1=%f, mean2=%f' % (mean1, mean2))\n",
    "print('variance1=%f, variance2=%f' % (var1, var2))"
   ]
  },
  {
   "cell_type": "code",
   "execution_count": 11,
   "metadata": {
    "ExecuteTime": {
     "end_time": "2021-11-02T14:48:50.970874Z",
     "start_time": "2021-11-02T14:48:50.953157Z"
    }
   },
   "outputs": [
    {
     "data": {
      "text/html": [
       "<div>\n",
       "<style scoped>\n",
       "    .dataframe tbody tr th:only-of-type {\n",
       "        vertical-align: middle;\n",
       "    }\n",
       "\n",
       "    .dataframe tbody tr th {\n",
       "        vertical-align: top;\n",
       "    }\n",
       "\n",
       "    .dataframe thead th {\n",
       "        text-align: right;\n",
       "    }\n",
       "</style>\n",
       "<table border=\"1\" class=\"dataframe\">\n",
       "  <thead>\n",
       "    <tr style=\"text-align: right;\">\n",
       "      <th></th>\n",
       "      <th>ds</th>\n",
       "      <th>year</th>\n",
       "      <th>month</th>\n",
       "      <th>y</th>\n",
       "      <th>y_box</th>\n",
       "    </tr>\n",
       "  </thead>\n",
       "  <tbody>\n",
       "    <tr>\n",
       "      <th>24</th>\n",
       "      <td>2011-01-01</td>\n",
       "      <td>2011</td>\n",
       "      <td>1</td>\n",
       "      <td>86379906000.000000</td>\n",
       "      <td>21.483467</td>\n",
       "    </tr>\n",
       "    <tr>\n",
       "      <th>25</th>\n",
       "      <td>2011-02-01</td>\n",
       "      <td>2011</td>\n",
       "      <td>2</td>\n",
       "      <td>58782444000.000000</td>\n",
       "      <td>21.205100</td>\n",
       "    </tr>\n",
       "    <tr>\n",
       "      <th>26</th>\n",
       "      <td>2011-03-01</td>\n",
       "      <td>2011</td>\n",
       "      <td>3</td>\n",
       "      <td>75513724000.000000</td>\n",
       "      <td>21.386398</td>\n",
       "    </tr>\n",
       "    <tr>\n",
       "      <th>27</th>\n",
       "      <td>2011-04-01</td>\n",
       "      <td>2011</td>\n",
       "      <td>4</td>\n",
       "      <td>145378148000.000000</td>\n",
       "      <td>21.857746</td>\n",
       "    </tr>\n",
       "    <tr>\n",
       "      <th>28</th>\n",
       "      <td>2011-05-01</td>\n",
       "      <td>2011</td>\n",
       "      <td>5</td>\n",
       "      <td>59314415000.000000</td>\n",
       "      <td>21.211632</td>\n",
       "    </tr>\n",
       "  </tbody>\n",
       "</table>\n",
       "</div>"
      ],
      "text/plain": [
       "           ds  year  month                   y     y_box\n",
       "24 2011-01-01  2011      1  86379906000.000000 21.483467\n",
       "25 2011-02-01  2011      2  58782444000.000000 21.205100\n",
       "26 2011-03-01  2011      3  75513724000.000000 21.386398\n",
       "27 2011-04-01  2011      4 145378148000.000000 21.857746\n",
       "28 2011-05-01  2011      5  59314415000.000000 21.211632"
      ]
     },
     "execution_count": 11,
     "metadata": {},
     "output_type": "execute_result"
    }
   ],
   "source": [
    "train_df.head()"
   ]
  },
  {
   "cell_type": "markdown",
   "metadata": {},
   "source": [
    "## ARIMA <a name=\"arima\"></a>"
   ]
  },
  {
   "cell_type": "markdown",
   "metadata": {},
   "source": [
    "### First approach <a name=\"first_approach\"></a>"
   ]
  },
  {
   "cell_type": "code",
   "execution_count": 12,
   "metadata": {
    "ExecuteTime": {
     "end_time": "2021-11-02T14:48:51.003019Z",
     "start_time": "2021-11-02T14:48:50.970874Z"
    }
   },
   "outputs": [],
   "source": [
    "first_model = sm.tsa.statespace.SARIMAX(train_df.y_box, order=(0, 1, 0), \n",
    "                                        seasonal_order=(0, 1, 0, 12)).fit(disp=-1)"
   ]
  },
  {
   "cell_type": "markdown",
   "metadata": {},
   "source": [
    "### ACF/PACF <a name=\"acf_pacf\"></a>"
   ]
  },
  {
   "cell_type": "code",
   "execution_count": 13,
   "metadata": {
    "ExecuteTime": {
     "end_time": "2021-11-02T14:48:51.394745Z",
     "start_time": "2021-11-02T14:48:51.005894Z"
    },
    "scrolled": true
   },
   "outputs": [
    {
     "name": "stdout",
     "output_type": "stream",
     "text": [
      "Dickey-Fuller criteria: p=0.006162\n"
     ]
    },
    {
     "data": {
      "image/png": "[encoded data removed]",
      "text/plain": [
       "<Figure size 864x504 with 3 Axes>"
      ]
     },
     "metadata": {
      "needs_background": "light"
     },
     "output_type": "display_data"
    }
   ],
   "source": [
    "tsplot(first_model.resid[13:], lags=24)"
   ]
  },
  {
   "cell_type": "markdown",
   "metadata": {},
   "source": [
    "### Parameters grid <a name=\"arima_tuning\"></a>"
   ]
  },
  {
   "cell_type": "code",
   "execution_count": 14,
   "metadata": {
    "ExecuteTime": {
     "end_time": "2021-11-02T14:48:51.413009Z",
     "start_time": "2021-11-02T14:48:51.394745Z"
    }
   },
   "outputs": [
    {
     "data": {
      "text/plain": [
       "100"
      ]
     },
     "execution_count": 14,
     "metadata": {},
     "output_type": "execute_result"
    }
   ],
   "source": [
    "ps = range(0, 5)\n",
    "d=1\n",
    "qs = range(0, 4)\n",
    "Ps = range(0, 5)\n",
    "D=1\n",
    "Qs = range(0, 1)\n",
    "\n",
    "\n",
    "parameters = product(ps, qs, Ps, Qs)\n",
    "parameters_list = list(parameters)\n",
    "len(parameters_list)"
   ]
  },
  {
   "cell_type": "code",
   "execution_count": 15,
   "metadata": {
    "ExecuteTime": {
     "end_time": "2021-11-02T14:50:44.024446Z",
     "start_time": "2021-11-02T14:48:51.414474Z"
    }
   },
   "outputs": [
    {
     "data": {
      "application/vnd.jupyter.widget-view+json": {
       "model_id": "b82972490197483a95c183949cf7e23e",
       "version_major": 2,
       "version_minor": 0
      },
      "text/plain": [
       "  0%|          | 0/100 [00:00<?, ?it/s]"
      ]
     },
     "metadata": {},
     "output_type": "display_data"
    },
    {
     "name": "stdout",
     "output_type": "stream",
     "text": [
      "      parameters      aic\n",
      "12  (0, 2, 2, 0) 5.110914\n",
      "27  (1, 1, 2, 0) 5.146239\n",
      "7   (0, 1, 2, 0) 5.148056\n",
      "9   (0, 1, 4, 0) 5.322794\n",
      "57  (2, 3, 2, 0) 6.467851\n",
      "Wall time: 1min 52s\n"
     ]
    }
   ],
   "source": [
    "%%time\n",
    "results = []\n",
    "best_aic = float(\"inf\")\n",
    "\n",
    "for param in tqdm(parameters_list):\n",
    "    # try except because on some sets of parameters the model is not trained\n",
    "    try:\n",
    "        model=sm.tsa.statespace.SARIMAX(train_df.y_box, order=(param[0], d, param[1]), \n",
    "                                        seasonal_order=(param[2], D, param[3], 12)).fit(disp=-1)\n",
    "    # we display the parameters on which the model is not trained and go to the next set\n",
    "    except:\n",
    "        print('wrong parameters:', param)\n",
    "        continue\n",
    "    aic = model.aic\n",
    "    # save the best model, aic, parameters\n",
    "    if aic < best_aic:\n",
    "        best_model = model\n",
    "        best_aic = aic\n",
    "        best_param = param\n",
    "    results.append([param, model.aic])\n",
    "\n",
    "result_table = pd.DataFrame(results)\n",
    "result_table.columns = ['parameters', 'aic']\n",
    "print(result_table.sort_values(by = 'aic', ascending=True).head())"
   ]
  },
  {
   "cell_type": "code",
   "execution_count": 16,
   "metadata": {
    "ExecuteTime": {
     "end_time": "2021-11-02T14:50:44.477861Z",
     "start_time": "2021-11-02T14:50:44.024446Z"
    }
   },
   "outputs": [
    {
     "name": "stdout",
     "output_type": "stream",
     "text": [
      "                                      SARIMAX Results                                      \n",
      "===========================================================================================\n",
      "Dep. Variable:                               y_box   No. Observations:                   96\n",
      "Model:             SARIMAX(0, 1, 2)x(2, 1, [], 12)   Log Likelihood                   2.445\n",
      "Date:                             Tue, 02 Nov 2021   AIC                              5.111\n",
      "Time:                                     20:50:44   BIC                             17.205\n",
      "Sample:                                          0   HQIC                             9.970\n",
      "                                              - 96                                         \n",
      "Covariance Type:                               opg                                         \n",
      "==============================================================================\n",
      "                 coef    std err          z      P>|z|      [0.025      0.975]\n",
      "------------------------------------------------------------------------------\n",
      "ma.L1         -0.7112      0.083     -8.565      0.000      -0.874      -0.548\n",
      "ma.L2         -0.1696      0.098     -1.729      0.084      -0.362       0.023\n",
      "ar.S.L12      -0.7450      0.070    -10.695      0.000      -0.882      -0.609\n",
      "ar.S.L24      -0.4370      0.051     -8.572      0.000      -0.537      -0.337\n",
      "sigma2         0.0485      0.005      8.866      0.000       0.038       0.059\n",
      "===================================================================================\n",
      "Ljung-Box (L1) (Q):                   0.01   Jarque-Bera (JB):                51.00\n",
      "Prob(Q):                              0.91   Prob(JB):                         0.00\n",
      "Heteroskedasticity (H):               0.33   Skew:                            -0.45\n",
      "Prob(H) (two-sided):                  0.00   Kurtosis:                         6.74\n",
      "===================================================================================\n",
      "\n",
      "Warnings:\n",
      "[1] Covariance matrix calculated using the outer product of gradients (complex-step).\n",
      "Wall time: 438 ms\n"
     ]
    }
   ],
   "source": [
    "%%time\n",
    "best_model = sm.tsa.statespace.SARIMAX(train_df.y_box, order=(0, d, 2), \n",
    "                                        seasonal_order=(2, D, 0, 12)).fit(disp=-1)\n",
    "print(best_model.summary())  "
   ]
  },
  {
   "cell_type": "code",
   "execution_count": 17,
   "metadata": {
    "ExecuteTime": {
     "end_time": "2021-11-02T14:50:44.922596Z",
     "start_time": "2021-11-02T14:50:44.477861Z"
    }
   },
   "outputs": [
    {
     "name": "stdout",
     "output_type": "stream",
     "text": [
      "Dickey-Fuller criteria: p=0.000000\n"
     ]
    },
    {
     "data": {
      "image/png": "[encoded data removed]",
      "text/plain": [
       "<Figure size 864x504 with 3 Axes>"
      ]
     },
     "metadata": {
      "needs_background": "light"
     },
     "output_type": "display_data"
    }
   ],
   "source": [
    "tsplot(best_model.resid[13:], lags=30)"
   ]
  },
  {
   "cell_type": "code",
   "execution_count": 18,
   "metadata": {
    "ExecuteTime": {
     "end_time": "2021-11-02T14:50:45.106326Z",
     "start_time": "2021-11-02T14:50:44.922596Z"
    }
   },
   "outputs": [
    {
     "data": {
      "image/png": "[encoded data removed]",
      "text/plain": [
       "<Figure size 1080x504 with 1 Axes>"
      ]
     },
     "metadata": {
      "needs_background": "light"
     },
     "output_type": "display_data"
    }
   ],
   "source": [
    "tt = train_df.copy()\n",
    "tt['arima_model']  = invboxcox(best_model.fittedvalues, lmbda)\n",
    "# minor error\n",
    "tt.loc[tt['ds'] == '2012-01-01', 'arima_model'] = 287175712124.28\n",
    "forecast = invboxcox(best_model.predict(start = tt.shape[0], end = tt.shape[0]+11), lmbda)\n",
    "forecast = tt.arima_model.append(forecast).values\n",
    "actual = tt.y.values[-96:]\n",
    "plt.figure(figsize=(15, 7))\n",
    "plt.plot(forecast, color='r', label=\"model\")\n",
    "plt.title(\"SARIMA model\\n Mean absolute error {} tenge\".format(round(mean_absolute_error(tt.dropna().y, tt.dropna().arima_model))))\n",
    "plt.plot(actual, label=\"actual\")\n",
    "plt.legend()\n",
    "plt.axvspan(len(actual), len(forecast), alpha=0.5, color='lightgrey')\n",
    "plt.grid(True)"
   ]
  },
  {
   "cell_type": "code",
   "execution_count": 19,
   "metadata": {
    "ExecuteTime": {
     "end_time": "2021-11-02T14:50:45.115152Z",
     "start_time": "2021-11-02T14:50:45.106326Z"
    }
   },
   "outputs": [],
   "source": [
    "test_df['arima_forecast'] = forecast[96:]\n",
    "test_df['arima_residuals'] = test_df['y'] - test_df['arima_forecast']"
   ]
  },
  {
   "cell_type": "code",
   "execution_count": 20,
   "metadata": {
    "ExecuteTime": {
     "end_time": "2021-11-02T14:50:45.298745Z",
     "start_time": "2021-11-02T14:50:45.117264Z"
    }
   },
   "outputs": [
    {
     "data": {
      "image/png": "[encoded data removed]",
      "text/plain": [
       "<Figure size 1080x504 with 1 Axes>"
      ]
     },
     "metadata": {
      "needs_background": "light"
     },
     "output_type": "display_data"
    }
   ],
   "source": [
    "plt.figure(figsize=(15, 7))\n",
    "plt.plot(test_df['arima_forecast'], color='r', label=\"model\")\n",
    "plt.plot(test_df['y'], label=\"actual\")\n",
    "plt.legend()\n",
    "plt.grid(True)"
   ]
  },
  {
   "cell_type": "code",
   "execution_count": 21,
   "metadata": {
    "ExecuteTime": {
     "end_time": "2021-11-02T14:50:45.314126Z",
     "start_time": "2021-11-02T14:50:45.298745Z"
    }
   },
   "outputs": [
    {
     "data": {
      "text/plain": [
       "7.859053920528515"
      ]
     },
     "execution_count": 21,
     "metadata": {},
     "output_type": "execute_result"
    }
   ],
   "source": [
    "arima_mape = mean_absolute_percentage_error(test_df['y'], test_df['arima_forecast'])\n",
    "arima_mape"
   ]
  },
  {
   "cell_type": "code",
   "execution_count": 22,
   "metadata": {
    "ExecuteTime": {
     "end_time": "2021-11-02T14:50:45.325077Z",
     "start_time": "2021-11-02T14:50:45.314126Z"
    }
   },
   "outputs": [
    {
     "data": {
      "text/plain": [
       "0.9347523812056596"
      ]
     },
     "execution_count": 22,
     "metadata": {},
     "output_type": "execute_result"
    }
   ],
   "source": [
    "r2_score_arima = r2_score(test_df['y'], test_df['arima_forecast'])\n",
    "r2_score_arima"
   ]
  },
  {
   "cell_type": "code",
   "execution_count": 23,
   "metadata": {
    "ExecuteTime": {
     "end_time": "2021-11-02T14:50:45.340433Z",
     "start_time": "2021-11-02T14:50:45.330012Z"
    },
    "scrolled": true
   },
   "outputs": [
    {
     "name": "stdout",
     "output_type": "stream",
     "text": [
      "Null hypothesis is not rejected with Ljung-Box test statistic = 0.0076327216498091694, p = 0.9303810321728011 for a = 0.05\n",
      "There is no autocorrelation in residuals\n"
     ]
    }
   ],
   "source": [
    "arima_lbvalue, arima_lb_pvalue = ljungboxtest(0.05, np.array(test_df['arima_residuals']))"
   ]
  },
  {
   "cell_type": "markdown",
   "metadata": {},
   "source": [
    "## fbprophet <a name=\"fbprophet\"></a>"
   ]
  },
  {
   "cell_type": "code",
   "execution_count": 24,
   "metadata": {
    "ExecuteTime": {
     "end_time": "2021-11-02T14:50:45.362686Z",
     "start_time": "2021-11-02T14:50:45.340433Z"
    }
   },
   "outputs": [],
   "source": [
    "path_images = f'images/fbprophet/model_report'\n",
    "path_models = f'models/fbprophet'\n",
    "\n",
    "if not os.path.exists(path_images):\n",
    "    os.makedirs(path_images)\n",
    "if not os.path.exists(path_models):\n",
    "    os.makedirs(path_models)"
   ]
  },
  {
   "cell_type": "code",
   "execution_count": 25,
   "metadata": {
    "ExecuteTime": {
     "end_time": "2021-11-02T14:50:45.462056Z",
     "start_time": "2021-11-02T14:50:45.362686Z"
    }
   },
   "outputs": [],
   "source": [
    "def make_model(data: pd.DataFrame,\n",
    "               train_date_start: str, \n",
    "               train_date_end: str,\n",
    "               forecast_date_begin: str,\n",
    "               forecast_date_end: str,\n",
    "               version: str = '1', \n",
    "               use_transformed_target: bool = False,\n",
    "               ignore_deval = True,\n",
    "               clean_outliers: bool = False,\n",
    "               save_model: bool = True, \n",
    "               save_graphs: bool = True) -> pd.DataFrame:\n",
    "    '''\n",
    "    The main method to build a prophet model\n",
    "    Args:\n",
    "        data - dataframe \n",
    "        use_transformed_target\n",
    "        train_date_start - left bound for dataframe\n",
    "        train_date_start - right bound for dataframe\n",
    "        forecast_date_begin - left bound of future dataframe\n",
    "        forecast_date_end - left bound of future dataframe\n",
    "        version - unique identifier for the model. Required for version control\n",
    "        use_transformed_target - use either y or y_box\n",
    "        clean_outliers - remove observations that fall outside the 99% confidence interval (3 standard deviations)\n",
    "        save_model - save model for future use (saved in pkl format)\n",
    "        save_graphs - save model graphs\n",
    "    Returns:\n",
    "        result - dataframe with actual and forecasted values\n",
    "    '''\n",
    "    \n",
    "    df = data.copy()\n",
    "    # filter the dataset within the dates of the training sample\n",
    "    df = df.query('ds >= @train_date_start and ds <= @train_date_end', engine = 'python')\n",
    "\n",
    "    # renaming the fields according to fbprophet requirements\n",
    "    if use_transformed_target:\n",
    "        df = df[['ds','y_box']]\n",
    "    else:\n",
    "        df = df[['ds', 'y']]\n",
    "    \n",
    "    \n",
    "    df.columns = ['ds', 'y']\n",
    "    df['forecast'] = '0'\n",
    "\n",
    "    # remove records that are out of 3 standard deviations from the expected value\n",
    "    if clean_outliers:\n",
    "        upper_bound = df.y.mean() + 3*df.y.std()\n",
    "        lower_bound = df.y.mean() - 3*df.y.std()\n",
    "        df = df.query('(y >= @lower_bound) and (y<=@upper_bound)')\n",
    "    \n",
    "    if ignore_deval:\n",
    "        df = df.query('ds < \"2015-08-01\" or ds >= \"2016-01-01\"')\n",
    "            \n",
    "        \n",
    "    m = fbprophet.Prophet(yearly_seasonality=True,\n",
    "            seasonality_prior_scale=0.1,\n",
    "            daily_seasonality=False,\n",
    "            n_changepoints=5,\n",
    "            changepoint_prior_scale = 1,\n",
    "            weekly_seasonality=False, \n",
    "            seasonality_mode='multiplicative',\n",
    "            growth = 'linear',\n",
    "            interval_width=0.95)\n",
    "    \n",
    "    months = ['jan', 'feb', 'mar', 'apr', 'may', 'jun', 'jul', 'aug', 'sep', 'oct', 'nov', 'dec']\n",
    "    for i, month in enumerate(months):\n",
    "        df[month] = (df['ds'].dt.month == i).values.astype('float')\n",
    "        m.add_regressor(month)\n",
    "    \n",
    "\n",
    "    \n",
    "\n",
    "    # fit the model\n",
    "    m.fit(df)\n",
    "\n",
    "    # create a dataset for future observations\n",
    "    forecast_periods = len(pd.date_range(forecast_date_begin, forecast_date_end, freq = 'MS'))\n",
    "    future = m.make_future_dataframe(periods = forecast_periods, freq = 'MS')\n",
    "    future['forecast'] = '1'\n",
    "    for i, month in enumerate(months):\n",
    "        future[month] = (future['ds'].dt.month == i).values.astype('float')\n",
    "    \n",
    "        \n",
    "    # forecasting\n",
    "    forecast = m.predict(future)  \n",
    "    \n",
    "    result = pd.merge(df[['ds', 'y', 'forecast']], \n",
    "                      forecast[['ds','yhat', 'yhat_lower', 'yhat_upper']], \n",
    "                      on='ds', \n",
    "                      how='outer')\n",
    "    \n",
    "    result['forecast'].fillna('1', inplace = True)\n",
    "    result = result.rename(columns = {'yhat_lower': 'predicted_lower_bound', 'yhat_upper': 'predicted_upper_bound'})\n",
    "    \n",
    "      \n",
    "    # save plots\n",
    "    if save_graphs:\n",
    "        m.plot(forecast, plot_cap=False, ylabel='forecast', xlabel='date') \\\n",
    "         .savefig(f'images/fbprophet/model_report/forecast_{version}.png')\n",
    "        plt.close()\n",
    "        m.plot_components(forecast) \\\n",
    "         .savefig(f'images/fbprophet/model_report/components_{version}.png')\n",
    "        plt.close()\n",
    "\n",
    "    # save model\n",
    "    if save_model:\n",
    "        pkl_path = f\"models/fbprophet/model_{version}.pkl\"\n",
    "        with open(pkl_path, \"wb\") as f:\n",
    "            pickle.dump(m, f)     \n",
    "        \n",
    "    return result"
   ]
  },
  {
   "cell_type": "code",
   "execution_count": 26,
   "metadata": {
    "ExecuteTime": {
     "end_time": "2021-11-02T14:50:52.393449Z",
     "start_time": "2021-11-02T14:50:45.462056Z"
    },
    "scrolled": true
   },
   "outputs": [
    {
     "data": {
      "text/html": [
       "<div>\n",
       "<style scoped>\n",
       "    .dataframe tbody tr th:only-of-type {\n",
       "        vertical-align: middle;\n",
       "    }\n",
       "\n",
       "    .dataframe tbody tr th {\n",
       "        vertical-align: top;\n",
       "    }\n",
       "\n",
       "    .dataframe thead th {\n",
       "        text-align: right;\n",
       "    }\n",
       "</style>\n",
       "<table border=\"1\" class=\"dataframe\">\n",
       "  <thead>\n",
       "    <tr style=\"text-align: right;\">\n",
       "      <th></th>\n",
       "      <th>ds</th>\n",
       "      <th>y</th>\n",
       "      <th>forecast</th>\n",
       "      <th>fbprophet_prediction</th>\n",
       "      <th>predicted_lower_bound</th>\n",
       "      <th>predicted_upper_bound</th>\n",
       "    </tr>\n",
       "  </thead>\n",
       "  <tbody>\n",
       "    <tr>\n",
       "      <th>7</th>\n",
       "      <td>2019-08-01</td>\n",
       "      <td>NaN</td>\n",
       "      <td>1</td>\n",
       "      <td>113716149902.100281</td>\n",
       "      <td>76254399732.037918</td>\n",
       "      <td>153722865547.053406</td>\n",
       "    </tr>\n",
       "    <tr>\n",
       "      <th>8</th>\n",
       "      <td>2019-09-01</td>\n",
       "      <td>NaN</td>\n",
       "      <td>1</td>\n",
       "      <td>119256312522.561752</td>\n",
       "      <td>79532696874.928146</td>\n",
       "      <td>158348976524.771484</td>\n",
       "    </tr>\n",
       "    <tr>\n",
       "      <th>9</th>\n",
       "      <td>2019-10-01</td>\n",
       "      <td>NaN</td>\n",
       "      <td>1</td>\n",
       "      <td>131939297118.069626</td>\n",
       "      <td>89304573699.461029</td>\n",
       "      <td>171937015393.764221</td>\n",
       "    </tr>\n",
       "    <tr>\n",
       "      <th>10</th>\n",
       "      <td>2019-11-01</td>\n",
       "      <td>NaN</td>\n",
       "      <td>1</td>\n",
       "      <td>160495498568.252319</td>\n",
       "      <td>121263040476.512497</td>\n",
       "      <td>199891754308.062805</td>\n",
       "    </tr>\n",
       "    <tr>\n",
       "      <th>11</th>\n",
       "      <td>2019-12-01</td>\n",
       "      <td>NaN</td>\n",
       "      <td>1</td>\n",
       "      <td>339889495992.627563</td>\n",
       "      <td>299912447828.914917</td>\n",
       "      <td>378092461689.869141</td>\n",
       "    </tr>\n",
       "  </tbody>\n",
       "</table>\n",
       "</div>"
      ],
      "text/plain": [
       "           ds   y forecast  fbprophet_prediction  predicted_lower_bound  \\\n",
       "7  2019-08-01 NaN        1   113716149902.100281     76254399732.037918   \n",
       "8  2019-09-01 NaN        1   119256312522.561752     79532696874.928146   \n",
       "9  2019-10-01 NaN        1   131939297118.069626     89304573699.461029   \n",
       "10 2019-11-01 NaN        1   160495498568.252319    121263040476.512497   \n",
       "11 2019-12-01 NaN        1   339889495992.627563    299912447828.914917   \n",
       "\n",
       "    predicted_upper_bound  \n",
       "7     153722865547.053406  \n",
       "8     158348976524.771484  \n",
       "9     171937015393.764221  \n",
       "10    199891754308.062805  \n",
       "11    378092461689.869141  "
      ]
     },
     "execution_count": 26,
     "metadata": {},
     "output_type": "execute_result"
    }
   ],
   "source": [
    "prediction = pd.DataFrame()\n",
    "full_ts = pd.DataFrame()\n",
    "\n",
    "_tmp = make_model(train_df, '2011-01-01', '2018-12-01', '2019-01-01', '2019-12-01')\n",
    "#_eval = _tmp.query('forecast == \"0\" and y.isna() == False', engine = 'python')\n",
    "_forecast = _tmp.query('forecast == \"1\"', engine = 'python')\n",
    "\n",
    "\n",
    "prediction = prediction.append(_forecast, ignore_index = True)\n",
    "\n",
    "full_ts = full_ts.append(_tmp, ignore_index = True)\n",
    "full_ts['residuals'] = full_ts['y'] - full_ts['yhat']\n",
    "\n",
    "columns = ['yhat', 'predicted_lower_bound', 'predicted_upper_bound']\n",
    "\n",
    "prediction = prediction.rename(columns={'yhat': 'fbprophet_prediction'})\n",
    "prediction.tail()"
   ]
  },
  {
   "cell_type": "code",
   "execution_count": 27,
   "metadata": {
    "ExecuteTime": {
     "end_time": "2021-11-02T14:50:52.423181Z",
     "start_time": "2021-11-02T14:50:52.393449Z"
    }
   },
   "outputs": [
    {
     "data": {
      "text/html": [
       "<div>\n",
       "<style scoped>\n",
       "    .dataframe tbody tr th:only-of-type {\n",
       "        vertical-align: middle;\n",
       "    }\n",
       "\n",
       "    .dataframe tbody tr th {\n",
       "        vertical-align: top;\n",
       "    }\n",
       "\n",
       "    .dataframe thead th {\n",
       "        text-align: right;\n",
       "    }\n",
       "</style>\n",
       "<table border=\"1\" class=\"dataframe\">\n",
       "  <thead>\n",
       "    <tr style=\"text-align: right;\">\n",
       "      <th></th>\n",
       "      <th>ds</th>\n",
       "      <th>year</th>\n",
       "      <th>month</th>\n",
       "      <th>y</th>\n",
       "      <th>arima_forecast</th>\n",
       "      <th>arima_residuals</th>\n",
       "      <th>fbprophet_prediction</th>\n",
       "      <th>fbprophet_residuals</th>\n",
       "    </tr>\n",
       "  </thead>\n",
       "  <tbody>\n",
       "    <tr>\n",
       "      <th>7</th>\n",
       "      <td>2019-08-01</td>\n",
       "      <td>2019</td>\n",
       "      <td>8</td>\n",
       "      <td>121132096000.000000</td>\n",
       "      <td>120926227553.182617</td>\n",
       "      <td>205868446.817383</td>\n",
       "      <td>113716149902.100281</td>\n",
       "      <td>7415946097.899719</td>\n",
       "    </tr>\n",
       "    <tr>\n",
       "      <th>8</th>\n",
       "      <td>2019-09-01</td>\n",
       "      <td>2019</td>\n",
       "      <td>9</td>\n",
       "      <td>130018596000.000000</td>\n",
       "      <td>127788072747.689316</td>\n",
       "      <td>2230523252.310684</td>\n",
       "      <td>119256312522.561752</td>\n",
       "      <td>10762283477.438248</td>\n",
       "    </tr>\n",
       "    <tr>\n",
       "      <th>9</th>\n",
       "      <td>2019-10-01</td>\n",
       "      <td>2019</td>\n",
       "      <td>10</td>\n",
       "      <td>127347435814.000000</td>\n",
       "      <td>139013534062.932983</td>\n",
       "      <td>-11666098248.932983</td>\n",
       "      <td>131939297118.069626</td>\n",
       "      <td>-4591861304.069626</td>\n",
       "    </tr>\n",
       "    <tr>\n",
       "      <th>10</th>\n",
       "      <td>2019-11-01</td>\n",
       "      <td>2019</td>\n",
       "      <td>11</td>\n",
       "      <td>188544740679.000000</td>\n",
       "      <td>177100110152.821594</td>\n",
       "      <td>11444630526.178406</td>\n",
       "      <td>160495498568.252319</td>\n",
       "      <td>28049242110.747681</td>\n",
       "    </tr>\n",
       "    <tr>\n",
       "      <th>11</th>\n",
       "      <td>2019-12-01</td>\n",
       "      <td>2019</td>\n",
       "      <td>12</td>\n",
       "      <td>385334049000.000000</td>\n",
       "      <td>403790141909.732178</td>\n",
       "      <td>-18456092909.732178</td>\n",
       "      <td>339889495992.627563</td>\n",
       "      <td>45444553007.372437</td>\n",
       "    </tr>\n",
       "  </tbody>\n",
       "</table>\n",
       "</div>"
      ],
      "text/plain": [
       "           ds  year  month                   y      arima_forecast  \\\n",
       "7  2019-08-01  2019      8 121132096000.000000 120926227553.182617   \n",
       "8  2019-09-01  2019      9 130018596000.000000 127788072747.689316   \n",
       "9  2019-10-01  2019     10 127347435814.000000 139013534062.932983   \n",
       "10 2019-11-01  2019     11 188544740679.000000 177100110152.821594   \n",
       "11 2019-12-01  2019     12 385334049000.000000 403790141909.732178   \n",
       "\n",
       "       arima_residuals  fbprophet_prediction  fbprophet_residuals  \n",
       "7     205868446.817383   113716149902.100281    7415946097.899719  \n",
       "8    2230523252.310684   119256312522.561752   10762283477.438248  \n",
       "9  -11666098248.932983   131939297118.069626   -4591861304.069626  \n",
       "10  11444630526.178406   160495498568.252319   28049242110.747681  \n",
       "11 -18456092909.732178   339889495992.627563   45444553007.372437  "
      ]
     },
     "execution_count": 27,
     "metadata": {},
     "output_type": "execute_result"
    }
   ],
   "source": [
    "cols = ['ds', 'fbprophet_prediction']\n",
    "\n",
    "_test_df = pd.merge(test_df,\n",
    "                    prediction[cols],\n",
    "                    how = 'left',\n",
    "                    on = ['ds'])\n",
    "\n",
    "_test_df['fbprophet_residuals'] = _test_df['y'] - _test_df['fbprophet_prediction']\n",
    "_test_df.tail()"
   ]
  },
  {
   "cell_type": "code",
   "execution_count": 28,
   "metadata": {
    "ExecuteTime": {
     "end_time": "2021-11-02T14:50:52.871494Z",
     "start_time": "2021-11-02T14:50:52.423181Z"
    }
   },
   "outputs": [
    {
     "name": "stdout",
     "output_type": "stream",
     "text": [
      "Dickey-Fuller criteria: p=0.000000\n"
     ]
    },
    {
     "data": {
      "image/png": "[encoded data removed]",
      "text/plain": [
       "<Figure size 864x504 with 3 Axes>"
      ]
     },
     "metadata": {
      "needs_background": "light"
     },
     "output_type": "display_data"
    }
   ],
   "source": [
    "tsplot(full_ts.query('forecast == \"0\"')['residuals'], lags=24)"
   ]
  },
  {
   "cell_type": "code",
   "execution_count": 29,
   "metadata": {
    "ExecuteTime": {
     "end_time": "2021-11-02T14:50:53.018627Z",
     "start_time": "2021-11-02T14:50:52.871494Z"
    }
   },
   "outputs": [
    {
     "data": {
      "image/png": "[encoded data removed]",
      "text/plain": [
       "<Figure size 1080x504 with 1 Axes>"
      ]
     },
     "metadata": {
      "needs_background": "light"
     },
     "output_type": "display_data"
    }
   ],
   "source": [
    "plt.figure(figsize=(15, 7))\n",
    "plt.plot(_test_df['fbprophet_prediction'], color='r', label=\"model\")\n",
    "plt.plot(_test_df['y'], label=\"actual\")\n",
    "plt.legend()\n",
    "plt.grid(True)"
   ]
  },
  {
   "cell_type": "code",
   "execution_count": 30,
   "metadata": {
    "ExecuteTime": {
     "end_time": "2021-11-02T14:50:53.031527Z",
     "start_time": "2021-11-02T14:50:53.022623Z"
    }
   },
   "outputs": [
    {
     "data": {
      "text/plain": [
       "5.668240467388752"
      ]
     },
     "execution_count": 30,
     "metadata": {},
     "output_type": "execute_result"
    }
   ],
   "source": [
    "fbprophet_mape = mean_absolute_percentage_error(_test_df['y'], _test_df['fbprophet_prediction'])\n",
    "fbprophet_mape"
   ]
  },
  {
   "cell_type": "code",
   "execution_count": 31,
   "metadata": {
    "ExecuteTime": {
     "end_time": "2021-11-02T14:50:53.041000Z",
     "start_time": "2021-11-02T14:50:53.031527Z"
    }
   },
   "outputs": [
    {
     "data": {
      "text/plain": [
       "0.9532007979492165"
      ]
     },
     "execution_count": 31,
     "metadata": {},
     "output_type": "execute_result"
    }
   ],
   "source": [
    "r2_score_prophet = r2_score(_test_df['y'], _test_df['fbprophet_prediction'])\n",
    "r2_score_prophet"
   ]
  },
  {
   "cell_type": "code",
   "execution_count": 32,
   "metadata": {
    "ExecuteTime": {
     "end_time": "2021-11-02T14:50:53.061708Z",
     "start_time": "2021-11-02T14:50:53.041000Z"
    }
   },
   "outputs": [
    {
     "name": "stdout",
     "output_type": "stream",
     "text": [
      "Null hypothesis is not rejected with Ljung-Box test statistic = 1.2174237622849537, p = 0.26986683284756363 for a = 0.05\n",
      "There is no autocorrelation in residuals\n"
     ]
    }
   ],
   "source": [
    "fbp_lbvalue, fbp_pvalue = ljungboxtest(0.05, np.array(_test_df['fbprophet_residuals']))"
   ]
  },
  {
   "cell_type": "code",
   "execution_count": 33,
   "metadata": {
    "ExecuteTime": {
     "end_time": "2021-11-02T14:50:53.077708Z",
     "start_time": "2021-11-02T14:50:53.061708Z"
    }
   },
   "outputs": [
    {
     "data": {
      "text/html": [
       "<div>\n",
       "<style scoped>\n",
       "    .dataframe tbody tr th:only-of-type {\n",
       "        vertical-align: middle;\n",
       "    }\n",
       "\n",
       "    .dataframe tbody tr th {\n",
       "        vertical-align: top;\n",
       "    }\n",
       "\n",
       "    .dataframe thead th {\n",
       "        text-align: right;\n",
       "    }\n",
       "</style>\n",
       "<table border=\"1\" class=\"dataframe\">\n",
       "  <thead>\n",
       "    <tr style=\"text-align: right;\">\n",
       "      <th></th>\n",
       "      <th>ds</th>\n",
       "      <th>year</th>\n",
       "      <th>month</th>\n",
       "      <th>y</th>\n",
       "      <th>arima_forecast</th>\n",
       "      <th>arima_residuals</th>\n",
       "      <th>fbprophet_prediction</th>\n",
       "      <th>fbprophet_residuals</th>\n",
       "    </tr>\n",
       "  </thead>\n",
       "  <tbody>\n",
       "    <tr>\n",
       "      <th>0</th>\n",
       "      <td>2019-01-01</td>\n",
       "      <td>2019</td>\n",
       "      <td>1</td>\n",
       "      <td>153266215000.000000</td>\n",
       "      <td>156846125708.430084</td>\n",
       "      <td>-3579910708.430084</td>\n",
       "      <td>152898671796.539215</td>\n",
       "      <td>367543203.460785</td>\n",
       "    </tr>\n",
       "    <tr>\n",
       "      <th>1</th>\n",
       "      <td>2019-02-01</td>\n",
       "      <td>2019</td>\n",
       "      <td>2</td>\n",
       "      <td>144911380000.000000</td>\n",
       "      <td>157136663209.703644</td>\n",
       "      <td>-12225283209.703644</td>\n",
       "      <td>144721884687.901764</td>\n",
       "      <td>189495312.098236</td>\n",
       "    </tr>\n",
       "    <tr>\n",
       "      <th>2</th>\n",
       "      <td>2019-03-01</td>\n",
       "      <td>2019</td>\n",
       "      <td>3</td>\n",
       "      <td>170328739000.000000</td>\n",
       "      <td>183358641272.786255</td>\n",
       "      <td>-13029902272.786255</td>\n",
       "      <td>167791804869.069427</td>\n",
       "      <td>2536934130.930573</td>\n",
       "    </tr>\n",
       "    <tr>\n",
       "      <th>3</th>\n",
       "      <td>2019-04-01</td>\n",
       "      <td>2019</td>\n",
       "      <td>4</td>\n",
       "      <td>240492956000.000000</td>\n",
       "      <td>297656621743.121887</td>\n",
       "      <td>-57163665743.121887</td>\n",
       "      <td>252635388517.622040</td>\n",
       "      <td>-12142432517.622040</td>\n",
       "    </tr>\n",
       "    <tr>\n",
       "      <th>4</th>\n",
       "      <td>2019-05-01</td>\n",
       "      <td>2019</td>\n",
       "      <td>5</td>\n",
       "      <td>100255999000.000000</td>\n",
       "      <td>105643270306.157806</td>\n",
       "      <td>-5387271306.157806</td>\n",
       "      <td>94761143399.083664</td>\n",
       "      <td>5494855600.916336</td>\n",
       "    </tr>\n",
       "    <tr>\n",
       "      <th>5</th>\n",
       "      <td>2019-06-01</td>\n",
       "      <td>2019</td>\n",
       "      <td>6</td>\n",
       "      <td>111317861000.000000</td>\n",
       "      <td>93892621663.780853</td>\n",
       "      <td>17425239336.219147</td>\n",
       "      <td>109590625084.695404</td>\n",
       "      <td>1727235915.304596</td>\n",
       "    </tr>\n",
       "    <tr>\n",
       "      <th>6</th>\n",
       "      <td>2019-07-01</td>\n",
       "      <td>2019</td>\n",
       "      <td>7</td>\n",
       "      <td>101815052000.000000</td>\n",
       "      <td>111165980182.578369</td>\n",
       "      <td>-9350928182.578369</td>\n",
       "      <td>92242671872.618240</td>\n",
       "      <td>9572380127.381760</td>\n",
       "    </tr>\n",
       "    <tr>\n",
       "      <th>7</th>\n",
       "      <td>2019-08-01</td>\n",
       "      <td>2019</td>\n",
       "      <td>8</td>\n",
       "      <td>121132096000.000000</td>\n",
       "      <td>120926227553.182617</td>\n",
       "      <td>205868446.817383</td>\n",
       "      <td>113716149902.100281</td>\n",
       "      <td>7415946097.899719</td>\n",
       "    </tr>\n",
       "    <tr>\n",
       "      <th>8</th>\n",
       "      <td>2019-09-01</td>\n",
       "      <td>2019</td>\n",
       "      <td>9</td>\n",
       "      <td>130018596000.000000</td>\n",
       "      <td>127788072747.689316</td>\n",
       "      <td>2230523252.310684</td>\n",
       "      <td>119256312522.561752</td>\n",
       "      <td>10762283477.438248</td>\n",
       "    </tr>\n",
       "    <tr>\n",
       "      <th>9</th>\n",
       "      <td>2019-10-01</td>\n",
       "      <td>2019</td>\n",
       "      <td>10</td>\n",
       "      <td>127347435814.000000</td>\n",
       "      <td>139013534062.932983</td>\n",
       "      <td>-11666098248.932983</td>\n",
       "      <td>131939297118.069626</td>\n",
       "      <td>-4591861304.069626</td>\n",
       "    </tr>\n",
       "    <tr>\n",
       "      <th>10</th>\n",
       "      <td>2019-11-01</td>\n",
       "      <td>2019</td>\n",
       "      <td>11</td>\n",
       "      <td>188544740679.000000</td>\n",
       "      <td>177100110152.821594</td>\n",
       "      <td>11444630526.178406</td>\n",
       "      <td>160495498568.252319</td>\n",
       "      <td>28049242110.747681</td>\n",
       "    </tr>\n",
       "    <tr>\n",
       "      <th>11</th>\n",
       "      <td>2019-12-01</td>\n",
       "      <td>2019</td>\n",
       "      <td>12</td>\n",
       "      <td>385334049000.000000</td>\n",
       "      <td>403790141909.732178</td>\n",
       "      <td>-18456092909.732178</td>\n",
       "      <td>339889495992.627563</td>\n",
       "      <td>45444553007.372437</td>\n",
       "    </tr>\n",
       "  </tbody>\n",
       "</table>\n",
       "</div>"
      ],
      "text/plain": [
       "           ds  year  month                   y      arima_forecast  \\\n",
       "0  2019-01-01  2019      1 153266215000.000000 156846125708.430084   \n",
       "1  2019-02-01  2019      2 144911380000.000000 157136663209.703644   \n",
       "2  2019-03-01  2019      3 170328739000.000000 183358641272.786255   \n",
       "3  2019-04-01  2019      4 240492956000.000000 297656621743.121887   \n",
       "4  2019-05-01  2019      5 100255999000.000000 105643270306.157806   \n",
       "5  2019-06-01  2019      6 111317861000.000000  93892621663.780853   \n",
       "6  2019-07-01  2019      7 101815052000.000000 111165980182.578369   \n",
       "7  2019-08-01  2019      8 121132096000.000000 120926227553.182617   \n",
       "8  2019-09-01  2019      9 130018596000.000000 127788072747.689316   \n",
       "9  2019-10-01  2019     10 127347435814.000000 139013534062.932983   \n",
       "10 2019-11-01  2019     11 188544740679.000000 177100110152.821594   \n",
       "11 2019-12-01  2019     12 385334049000.000000 403790141909.732178   \n",
       "\n",
       "       arima_residuals  fbprophet_prediction  fbprophet_residuals  \n",
       "0   -3579910708.430084   152898671796.539215     367543203.460785  \n",
       "1  -12225283209.703644   144721884687.901764     189495312.098236  \n",
       "2  -13029902272.786255   167791804869.069427    2536934130.930573  \n",
       "3  -57163665743.121887   252635388517.622040  -12142432517.622040  \n",
       "4   -5387271306.157806    94761143399.083664    5494855600.916336  \n",
       "5   17425239336.219147   109590625084.695404    1727235915.304596  \n",
       "6   -9350928182.578369    92242671872.618240    9572380127.381760  \n",
       "7     205868446.817383   113716149902.100281    7415946097.899719  \n",
       "8    2230523252.310684   119256312522.561752   10762283477.438248  \n",
       "9  -11666098248.932983   131939297118.069626   -4591861304.069626  \n",
       "10  11444630526.178406   160495498568.252319   28049242110.747681  \n",
       "11 -18456092909.732178   339889495992.627563   45444553007.372437  "
      ]
     },
     "execution_count": 33,
     "metadata": {},
     "output_type": "execute_result"
    }
   ],
   "source": [
    "_test_df"
   ]
  },
  {
   "cell_type": "markdown",
   "metadata": {},
   "source": [
    "### Silverkyte"
   ]
  },
  {
   "cell_type": "code",
   "execution_count": 34,
   "metadata": {
    "ExecuteTime": {
     "end_time": "2021-11-02T14:50:53.093707Z",
     "start_time": "2021-11-02T14:50:53.077708Z"
    }
   },
   "outputs": [],
   "source": [
    "def last_day_of_month(any_day):\n",
    "    # get close to the end of the month for any day, and add 4 days 'over'\n",
    "    next_month = any_day.replace(day=28) + timedelta(days=4)\n",
    "    # subtract the number of remaining 'overage' days to get last day of current month, or said programattically said, the previous day of the first of next month\n",
    "    return next_month - timedelta(days=next_month.day)"
   ]
  },
  {
   "cell_type": "code",
   "execution_count": 35,
   "metadata": {
    "ExecuteTime": {
     "end_time": "2021-11-02T14:50:53.191169Z",
     "start_time": "2021-11-02T14:50:53.093707Z"
    }
   },
   "outputs": [],
   "source": [
    "df=df[['ds','y']]\n",
    "df['ts']=df.ds.apply(lambda x: last_day_of_month(x))\n",
    "df=df[['y','ts']]\n",
    "months = ['jan', 'feb', 'mar', 'apr', 'may', 'jun', 'jul', 'aug', 'sep', 'oct', 'nov', 'dec']\n",
    "\n",
    "for i, month in enumerate(months):\n",
    "    df[str(month)] = (df['ts'].dt.month == i+1).values.astype('int64')"
   ]
  },
  {
   "cell_type": "code",
   "execution_count": 36,
   "metadata": {
    "ExecuteTime": {
     "end_time": "2021-11-02T14:50:53.243680Z",
     "start_time": "2021-11-02T14:50:53.191169Z"
    }
   },
   "outputs": [
    {
     "data": {
      "text/plain": [
       "<greykite.framework.input.univariate_time_series.UnivariateTimeSeries at 0x2678dcbf7f0>"
      ]
     },
     "execution_count": 36,
     "metadata": {},
     "output_type": "execute_result"
    }
   ],
   "source": [
    "ts = UnivariateTimeSeries()\n",
    "ts.load_data(\n",
    "    df=df,\n",
    "    time_col=\"ts\",\n",
    "    value_col=\"y\",\n",
    "    freq=\"M\")"
   ]
  },
  {
   "cell_type": "code",
   "execution_count": 37,
   "metadata": {
    "ExecuteTime": {
     "end_time": "2021-11-02T14:50:53.251685Z",
     "start_time": "2021-11-02T14:50:53.243680Z"
    }
   },
   "outputs": [],
   "source": [
    "metadata = MetadataParam(\n",
    "     time_col=\"ts\",  # name of the time column \n",
    "     value_col=\"y\",  # name of the value column \n",
    "     freq=\"M\",\n",
    "    train_end_date=datetime.strptime('12/31/19','%m/%d/%y')\n",
    ")"
   ]
  },
  {
   "cell_type": "code",
   "execution_count": 38,
   "metadata": {
    "ExecuteTime": {
     "end_time": "2021-11-02T14:50:53.265959Z",
     "start_time": "2021-11-02T14:50:53.251685Z"
    }
   },
   "outputs": [],
   "source": [
    "lag_dict = dict(orders=[12,36,48])\n",
    "autoreg_dict = dict(lag_dict=lag_dict)\n",
    "from greykite.framework.templates.autogen.forecast_config import ModelComponentsParam\n",
    "\n",
    "custom_model_components = ModelComponentsParam(\n",
    "    seasonality = dict(\n",
    "    yearly_seasonality=False,\n",
    "    quarterly_seasonality=False,\n",
    "    monthly_seasonality=False,  #\n",
    "    weekly_seasonality=False,\n",
    "    daily_seasonality=False,\n",
    "),\n",
    "growth = dict(growth_term=\"linear\")  # grid search over each option\n",
    ",\n",
    "custom = dict(\n",
    "    fit_algorithm_dict=dict(\n",
    "        fit_algorithm=\"linear\"\n",
    "    )\n",
    "),\n",
    "\n",
    "regressors=dict(\n",
    "    regressor_cols=['jan', 'feb', 'mar', 'apr', 'may', 'jun',\n",
    "       'jul', 'aug', 'sep', 'oct', 'nov', 'dec']\n",
    "),\n",
    "autoregression=dict(autoreg_dict= autoreg_dict),\n",
    "\n",
    "changepoints = dict(\n",
    "    changepoints_dict=dict(\n",
    "        method=\"uniform\",\n",
    "        n_changepoints=2,\n",
    "        continuous_time_col=\"ct1\",  # the default, no need to specify\n",
    "        growth_func=lambda x: x,  # the default, no need to specify\n",
    "    ),\n",
    "),\n",
    "events = dict(\n",
    "    holidays_to_model_separately = [\n",
    "        None],\n",
    "    holiday_lookup_countries = [None]\n",
    ")\n",
    ")"
   ]
  },
  {
   "cell_type": "code",
   "execution_count": 39,
   "metadata": {
    "ExecuteTime": {
     "end_time": "2021-11-02T14:50:55.848507Z",
     "start_time": "2021-11-02T14:50:53.265959Z"
    }
   },
   "outputs": [
    {
     "name": "stdout",
     "output_type": "stream",
     "text": [
      "Fitting 3 folds for each of 1 candidates, totalling 3 fits\n"
     ]
    }
   ],
   "source": [
    "forecaster = Forecaster() # Creates forecasts and stores the result\n",
    "result = forecaster.run_forecast_config(  # result is also stored as `forecaster.forecast_result`.\n",
    "     df=ts.df,\n",
    "     config=ForecastConfig(\n",
    "         model_template=ModelTemplateEnum.SILVERKITE.name,\n",
    "         model_components_param=custom_model_components,\n",
    "         forecast_horizon=12,  # forecasts 365 steps ahead\n",
    "         coverage=0.95,         # 95% prediction intervals\n",
    "         metadata_param=metadata\n",
    "     )\n",
    ")"
   ]
  },
  {
   "cell_type": "code",
   "execution_count": 40,
   "metadata": {
    "ExecuteTime": {
     "end_time": "2021-11-02T14:50:56.111835Z",
     "start_time": "2021-11-02T14:50:55.848507Z"
    }
   },
   "outputs": [
    {
     "data": {
      "application/vnd.plotly.v1+json": {
       "config": {
        "plotlyServerURL": "https://plot.ly"
       },
       "data": [
        {
         "legendgroup": "interval",
         "line": {
          "color": "rgba(0, 90, 181, 0.5)",
          "width": 0
         },
         "mode": "lines",
         "name": "Lower Bound",
         "type": "scatter",
         "uid": "e82e2c0b-7a2c-44e8-934d-4418ff82b306",
         "x": [
          "2009-01-31",
          "2009-02-28",
          "2009-03-31",
          "2009-04-30",
          "2009-05-31",
          "2009-06-30",
          "2009-07-31",
          "2009-08-31",
          "2009-09-30",
          "2009-10-31",
          "2009-11-30",
          "2009-12-31",
          "2010-01-31",
          "2010-02-28",
          "2010-03-31",
          "2010-04-30",
          "2010-05-31",
          "2010-06-30",
          "2010-07-31",
          "2010-08-31",
          "2010-09-30",
          "2010-10-31",
          "2010-11-30",
          "2010-12-31",
          "2011-01-31",
          "2011-02-28",
          "2011-03-31",
          "2011-04-30",
          "2011-05-31",
          "2011-06-30",
          "2011-07-31",
          "2011-08-31",
          "2011-09-30",
          "2011-10-31",
          "2011-11-30",
          "2011-12-31",
          "2012-01-31",
          "2012-02-29",
          "2012-03-31",
          "2012-04-30",
          "2012-05-31",
          "2012-06-30",
          "2012-07-31",
          "2012-08-31",
          "2012-09-30",
          "2012-10-31",
          "2012-11-30",
          "2012-12-31",
          "2013-01-31",
          "2013-02-28",
          "2013-03-31",
          "2013-04-30",
          "2013-05-31",
          "2013-06-30",
          "2013-07-31",
          "2013-08-31",
          "2013-09-30",
          "2013-10-31",
          "2013-11-30",
          "2013-12-31",
          "2014-01-31",
          "2014-02-28",
          "2014-03-31",
          "2014-04-30",
          "2014-05-31",
          "2014-06-30",
          "2014-07-31",
          "2014-08-31",
          "2014-09-30",
          "2014-10-31",
          "2014-11-30",
          "2014-12-31",
          "2015-01-31",
          "2015-02-28",
          "2015-03-31",
          "2015-04-30",
          "2015-05-31",
          "2015-06-30",
          "2015-07-31",
          "2015-08-31",
          "2015-09-30",
          "2015-10-31",
          "2015-11-30",
          "2015-12-31",
          "2016-01-31",
          "2016-02-29",
          "2016-03-31",
          "2016-04-30",
          "2016-05-31",
          "2016-06-30",
          "2016-07-31",
          "2016-08-31",
          "2016-09-30",
          "2016-10-31",
          "2016-11-30",
          "2016-12-31",
          "2017-01-31",
          "2017-02-28",
          "2017-03-31",
          "2017-04-30",
          "2017-05-31",
          "2017-06-30",
          "2017-07-31",
          "2017-08-31",
          "2017-09-30",
          "2017-10-31",
          "2017-11-30",
          "2017-12-31",
          "2018-01-31",
          "2018-02-28",
          "2018-03-31",
          "2018-04-30",
          "2018-05-31",
          "2018-06-30",
          "2018-07-31",
          "2018-08-31",
          "2018-09-30",
          "2018-10-31",
          "2018-11-30",
          "2018-12-31",
          "2019-01-31",
          "2019-02-28",
          "2019-03-31",
          "2019-04-30",
          "2019-05-31",
          "2019-06-30",
          "2019-07-31",
          "2019-08-31",
          "2019-09-30",
          "2019-10-31",
          "2019-11-30",
          "2019-12-31"
         ],
         "y": [
          1790157299.9649277,
          -2471727913.4503937,
          7183660662.482452,
          39861497583.75096,
          -22856585077.450024,
          -17258849046.640266,
          -21615970934.226738,
          -15301518443.596672,
          -11308401439.82315,
          -5559487720.62735,
          6808119395.939865,
          97328079663.88124,
          15170901082.115211,
          9789914946.21811,
          20122274404.64749,
          49230066543.728,
          -15698503191.792458,
          -10262245443.372543,
          -13767020867.038315,
          -8129999198.558876,
          -1688255901.323906,
          4690255944.368301,
          18637017786.882233,
          121628545531.42082,
          29857743392.784973,
          22425366753.971313,
          32877256018.71895,
          70670111398.99278,
          6727654.326934814,
          5175288312.133362,
          3025537144.189316,
          9170932246.223282,
          13386636518.559547,
          20302901632.26805,
          34575323759.72511,
          136729503340.81316,
          44174325048.390396,
          34843049933.084885,
          47587093054.60832,
          84280283192.00653,
          7423250633.428902,
          11839248536.853622,
          7755348335.335976,
          13932378069.084068,
          19130743639.750214,
          26490354628.345062,
          40928163258.9335,
          156767862078.08563,
          50348007106.31355,
          37616049649.58267,
          50031375845.277435,
          80552520962.23514,
          -4837785180.440544,
          18844934446.39296,
          -2134780115.224121,
          4112980322.4796524,
          12195289100.795776,
          22115220081.613464,
          39114672116.56021,
          174332640322.90448,
          54257638434.31789,
          37832110530.171524,
          51531341517.91144,
          109289963124.74452,
          4191673465.4087677,
          7343070057.222763,
          7429952589.41037,
          15045375592.43274,
          17408648506.288452,
          27915122663.30562,
          45610677046.95227,
          179024665844,
          53464611450.30977,
          41661240241.40274,
          57914480811.79996,
          114078005047.98393,
          4321237248.44297,
          37272565147.563126,
          5478536134.904945,
          16874549344.017784,
          20806040423.181793,
          33650377163.51906,
          50389814178.92378,
          180972054670.19806,
          61505760891.040695,
          54839102500.05458,
          70620364557.54759,
          108910000737.98488,
          8700252660.185478,
          48693371086.0249,
          6129306621.884674,
          21973134736.008698,
          28816974717.9059,
          41648904975.55182,
          58699371612.69368,
          216413142316.3772,
          76542415390.12123,
          72730342505.04031,
          88426915749.74461,
          155299002031.87738,
          29121106612.93213,
          31604932842.42148,
          33122699485.197067,
          38929980418.39546,
          47891317372.94078,
          56865466992.65799,
          78680120886.61644,
          226440701967.88177,
          88896452231.62938,
          83547485425.54198,
          101379057626.65013,
          169198509609.971,
          44325247120.000854,
          48502876806.756226,
          41720384449.853485,
          53514373841.33342,
          62668677703.789444,
          69854682403.47008,
          90842580167.17567,
          281791889092.8311,
          106436691250.65413,
          102371010685.47346,
          121435897806.21663,
          181398994394.89954,
          58520762178.69902,
          61129268415.879944,
          52192550375.79254,
          70052525496.32394,
          77961296369.89598,
          88100885838.35179,
          113662525594.84813,
          324295281133.1921
         ]
        },
        {
         "fill": "tonexty",
         "fillcolor": "rgba(0, 90, 181, 0.15)",
         "legendgroup": "interval",
         "line": {
          "color": "rgba(0, 90, 181, 0.5)",
          "width": 0
         },
         "mode": "lines",
         "name": "Upper Bound",
         "type": "scatter",
         "uid": "a7daa734-040b-4de9-a301-16fae3ca5e40",
         "x": [
          "2009-01-31",
          "2009-02-28",
          "2009-03-31",
          "2009-04-30",
          "2009-05-31",
          "2009-06-30",
          "2009-07-31",
          "2009-08-31",
          "2009-09-30",
          "2009-10-31",
          "2009-11-30",
          "2009-12-31",
          "2010-01-31",
          "2010-02-28",
          "2010-03-31",
          "2010-04-30",
          "2010-05-31",
          "2010-06-30",
          "2010-07-31",
          "2010-08-31",
          "2010-09-30",
          "2010-10-31",
          "2010-11-30",
          "2010-12-31",
          "2011-01-31",
          "2011-02-28",
          "2011-03-31",
          "2011-04-30",
          "2011-05-31",
          "2011-06-30",
          "2011-07-31",
          "2011-08-31",
          "2011-09-30",
          "2011-10-31",
          "2011-11-30",
          "2011-12-31",
          "2012-01-31",
          "2012-02-29",
          "2012-03-31",
          "2012-04-30",
          "2012-05-31",
          "2012-06-30",
          "2012-07-31",
          "2012-08-31",
          "2012-09-30",
          "2012-10-31",
          "2012-11-30",
          "2012-12-31",
          "2013-01-31",
          "2013-02-28",
          "2013-03-31",
          "2013-04-30",
          "2013-05-31",
          "2013-06-30",
          "2013-07-31",
          "2013-08-31",
          "2013-09-30",
          "2013-10-31",
          "2013-11-30",
          "2013-12-31",
          "2014-01-31",
          "2014-02-28",
          "2014-03-31",
          "2014-04-30",
          "2014-05-31",
          "2014-06-30",
          "2014-07-31",
          "2014-08-31",
          "2014-09-30",
          "2014-10-31",
          "2014-11-30",
          "2014-12-31",
          "2015-01-31",
          "2015-02-28",
          "2015-03-31",
          "2015-04-30",
          "2015-05-31",
          "2015-06-30",
          "2015-07-31",
          "2015-08-31",
          "2015-09-30",
          "2015-10-31",
          "2015-11-30",
          "2015-12-31",
          "2016-01-31",
          "2016-02-29",
          "2016-03-31",
          "2016-04-30",
          "2016-05-31",
          "2016-06-30",
          "2016-07-31",
          "2016-08-31",
          "2016-09-30",
          "2016-10-31",
          "2016-11-30",
          "2016-12-31",
          "2017-01-31",
          "2017-02-28",
          "2017-03-31",
          "2017-04-30",
          "2017-05-31",
          "2017-06-30",
          "2017-07-31",
          "2017-08-31",
          "2017-09-30",
          "2017-10-31",
          "2017-11-30",
          "2017-12-31",
          "2018-01-31",
          "2018-02-28",
          "2018-03-31",
          "2018-04-30",
          "2018-05-31",
          "2018-06-30",
          "2018-07-31",
          "2018-08-31",
          "2018-09-30",
          "2018-10-31",
          "2018-11-30",
          "2018-12-31",
          "2019-01-31",
          "2019-02-28",
          "2019-03-31",
          "2019-04-30",
          "2019-05-31",
          "2019-06-30",
          "2019-07-31",
          "2019-08-31",
          "2019-09-30",
          "2019-10-31",
          "2019-11-30",
          "2019-12-31"
         ],
         "y": [
          101963247246.8811,
          97701362033.46577,
          107356750609.39862,
          140034587530.6671,
          77316504869.46614,
          82914240900.27591,
          78557119012.68942,
          84871571503.31949,
          88864688507.09302,
          94613602226.28882,
          106981209342.85603,
          197501169610.79742,
          115343991029.03137,
          109963004893.13428,
          120295364351.56366,
          149403156490.64417,
          84474586755.12372,
          89910844503.54362,
          86406069079.87785,
          92043090748.3573,
          98484834045.59225,
          104863345891.28447,
          118810107733.7984,
          221801635478.33698,
          130030833339.70114,
          122598456700.88748,
          133050345965.63512,
          170843201345.90894,
          100179817601.2431,
          105348378259.04953,
          103198627091.10548,
          109344022193.13945,
          113559726465.47571,
          120475991579.18422,
          134748413706.64128,
          236902593287.7293,
          144347414995.30658,
          135016139880.00105,
          147760183001.52448,
          184453373138.9227,
          107596340580.34506,
          112012338483.76979,
          107928438282.25214,
          114105468016.00024,
          119303833586.66638,
          126663444575.26123,
          141101253205.84967,
          256940952025.00183,
          150521097053.22974,
          137789139596.49884,
          150204465792.1936,
          180725610909.1513,
          95335304766.47562,
          119018024393.30913,
          98038309831.69205,
          104286070269.39581,
          112368379047.71194,
          122288310028.52963,
          139287762063.47638,
          274505730269.82062,
          154430728381.23407,
          138005200477.0877,
          151704431464.8276,
          209463053071.6607,
          104364763412.32494,
          107516160004.13893,
          107603042536.32654,
          115218465539.3489,
          117581738453.20462,
          128088212610.22179,
          145783766993.86844,
          279197755790.91614,
          153637701397.22595,
          141834330188.3189,
          158087570758.71613,
          214251094994.9001,
          104494327195.35913,
          137445655094.4793,
          105651626081.8211,
          117047639290.93396,
          120979130370.09796,
          133823467110.43523,
          150562904125.83997,
          281145144617.1142,
          161678850837.95685,
          155012192446.97076,
          170793454504.46375,
          209083090684.90106,
          108873342607.10165,
          148866461032.94107,
          106302396568.80084,
          122146224682.92487,
          128990064664.82207,
          141821994922.468,
          158872461559.60986,
          316586232263.29333,
          176715505337.0374,
          172903432451.95648,
          188600005696.66077,
          255472091978.79358,
          129294196559.8483,
          131778022789.33765,
          133295789432.11324,
          139103070365.31165,
          148064407319.85693,
          157038556939.57416,
          178853210833.5326,
          326613791914.7979,
          189069542178.54553,
          183720575372.45813,
          201552147573.56628,
          269371599556.88715,
          144498337066.91702,
          148675966753.6724,
          141893474396.76965,
          153687463788.24957,
          162841767650.70563,
          170027772350.38623,
          191015670114.09186,
          381964979039.74725,
          206609781197.5703,
          202544100632.38965,
          221608987753.1328,
          281572084341.81573,
          158693852125.61517,
          161302358362.7961,
          152365640322.7087,
          170225615443.2401,
          178134386316.81213,
          188273975785.26794,
          213835615541.76428,
          424468371080.1082
         ]
        },
        {
         "line": {
          "color": "rgba(250, 43, 20, 0.7)"
         },
         "marker": {
          "color": "rgba(250, 43, 20, 0.7)",
          "size": 2
         },
         "mode": "lines+markers",
         "name": "Actual",
         "opacity": 1,
         "type": "scatter",
         "uid": "2399d807-a5aa-4337-812d-c672e276b2aa",
         "x": [
          "2009-01-31",
          "2009-02-28",
          "2009-03-31",
          "2009-04-30",
          "2009-05-31",
          "2009-06-30",
          "2009-07-31",
          "2009-08-31",
          "2009-09-30",
          "2009-10-31",
          "2009-11-30",
          "2009-12-31",
          "2010-01-31",
          "2010-02-28",
          "2010-03-31",
          "2010-04-30",
          "2010-05-31",
          "2010-06-30",
          "2010-07-31",
          "2010-08-31",
          "2010-09-30",
          "2010-10-31",
          "2010-11-30",
          "2010-12-31",
          "2011-01-31",
          "2011-02-28",
          "2011-03-31",
          "2011-04-30",
          "2011-05-31",
          "2011-06-30",
          "2011-07-31",
          "2011-08-31",
          "2011-09-30",
          "2011-10-31",
          "2011-11-30",
          "2011-12-31",
          "2012-01-31",
          "2012-02-29",
          "2012-03-31",
          "2012-04-30",
          "2012-05-31",
          "2012-06-30",
          "2012-07-31",
          "2012-08-31",
          "2012-09-30",
          "2012-10-31",
          "2012-11-30",
          "2012-12-31",
          "2013-01-31",
          "2013-02-28",
          "2013-03-31",
          "2013-04-30",
          "2013-05-31",
          "2013-06-30",
          "2013-07-31",
          "2013-08-31",
          "2013-09-30",
          "2013-10-31",
          "2013-11-30",
          "2013-12-31",
          "2014-01-31",
          "2014-02-28",
          "2014-03-31",
          "2014-04-30",
          "2014-05-31",
          "2014-06-30",
          "2014-07-31",
          "2014-08-31",
          "2014-09-30",
          "2014-10-31",
          "2014-11-30",
          "2014-12-31",
          "2015-01-31",
          "2015-02-28",
          "2015-03-31",
          "2015-04-30",
          "2015-05-31",
          "2015-06-30",
          "2015-07-31",
          "2015-08-31",
          "2015-09-30",
          "2015-10-31",
          "2015-11-30",
          "2015-12-31",
          "2016-01-31",
          "2016-02-29",
          "2016-03-31",
          "2016-04-30",
          "2016-05-31",
          "2016-06-30",
          "2016-07-31",
          "2016-08-31",
          "2016-09-30",
          "2016-10-31",
          "2016-11-30",
          "2016-12-31",
          "2017-01-31",
          "2017-02-28",
          "2017-03-31",
          "2017-04-30",
          "2017-05-31",
          "2017-06-30",
          "2017-07-31",
          "2017-08-31",
          "2017-09-30",
          "2017-10-31",
          "2017-11-30",
          "2017-12-31",
          "2018-01-31",
          "2018-02-28",
          "2018-03-31",
          "2018-04-30",
          "2018-05-31",
          "2018-06-30",
          "2018-07-31",
          "2018-08-31",
          "2018-09-30",
          "2018-10-31",
          "2018-11-30",
          "2018-12-31",
          "2019-01-31",
          "2019-02-28",
          "2019-03-31",
          "2019-04-30",
          "2019-05-31",
          "2019-06-30",
          "2019-07-31",
          "2019-08-31",
          "2019-09-30",
          "2019-10-31",
          "2019-11-30",
          "2019-12-31"
         ],
         "y": [
          68915876000,
          60210075000,
          65476422000,
          37704039000,
          20508038000,
          19251853000,
          25882496000,
          20612571000,
          39661124000,
          44558945000,
          56843634000,
          153863467000,
          79076384000,
          54412239000,
          60608442000,
          100399610000,
          38590877000,
          35252201000,
          52423959000,
          51108814000,
          52840383000,
          61921538000,
          76739630000,
          167245496000,
          86379906000,
          58782444000,
          75513724000,
          145378148000,
          59314415000,
          61140540000,
          63631370000,
          79469845000,
          71640787000,
          86944893000,
          95246531000,
          166937448000,
          91731787000,
          84350074000,
          97373785000,
          84226154000,
          34104728000,
          190955254000,
          35500647000,
          55818416000,
          60432628000,
          81082392000,
          83823311000,
          141817659000,
          102577171000,
          99078117000,
          105782719000,
          141895255000,
          51956805000,
          45633310000,
          55617785000,
          55658514000,
          60040568000,
          69121991000,
          81805634000,
          163568728000,
          84661292000,
          94264470000,
          107151010000,
          192463682000,
          59700315000,
          60473778000,
          68250949000,
          60799481000,
          77182042000,
          76686972000,
          92408536000,
          195624279000,
          94825682000,
          94274888000,
          109722819000,
          127083323000,
          50478556000,
          46731453000,
          14035469000,
          52179105000,
          60402979000,
          66355138000,
          80642290000,
          386399463000,
          117668583000,
          114419773000,
          131893252000,
          215099771000,
          67191809000,
          53568899000,
          70985444000,
          77705006000,
          86113204000,
          96030974000,
          125354159000,
          281333640000,
          132066820000,
          107545474000,
          127012031000,
          224058578000,
          84822036000,
          77967817000,
          91020629000,
          94332277000,
          94121738000,
          98292981000,
          117745709000,
          289799362000,
          118970028000,
          126340576000,
          148005282000,
          213927025000,
          88894681000,
          91645697000,
          90661027000,
          103303630000,
          107737843000,
          117843839000,
          154541618000,
          325705732000,
          153266215000,
          144911380000,
          170328739000,
          240492956000,
          100255999000,
          111317861000,
          101815052000,
          121132096000,
          130018596000,
          127347435814,
          188544740679,
          385334049000
         ]
        },
        {
         "line": {
          "color": "rgba(0, 90, 181, 0.7)",
          "dash": "solid"
         },
         "name": "Forecast",
         "type": "scatter",
         "uid": "c3b6386f-7398-4abd-bed5-6286f42f7f4a",
         "x": [
          "2009-01-31",
          "2009-02-28",
          "2009-03-31",
          "2009-04-30",
          "2009-05-31",
          "2009-06-30",
          "2009-07-31",
          "2009-08-31",
          "2009-09-30",
          "2009-10-31",
          "2009-11-30",
          "2009-12-31",
          "2010-01-31",
          "2010-02-28",
          "2010-03-31",
          "2010-04-30",
          "2010-05-31",
          "2010-06-30",
          "2010-07-31",
          "2010-08-31",
          "2010-09-30",
          "2010-10-31",
          "2010-11-30",
          "2010-12-31",
          "2011-01-31",
          "2011-02-28",
          "2011-03-31",
          "2011-04-30",
          "2011-05-31",
          "2011-06-30",
          "2011-07-31",
          "2011-08-31",
          "2011-09-30",
          "2011-10-31",
          "2011-11-30",
          "2011-12-31",
          "2012-01-31",
          "2012-02-29",
          "2012-03-31",
          "2012-04-30",
          "2012-05-31",
          "2012-06-30",
          "2012-07-31",
          "2012-08-31",
          "2012-09-30",
          "2012-10-31",
          "2012-11-30",
          "2012-12-31",
          "2013-01-31",
          "2013-02-28",
          "2013-03-31",
          "2013-04-30",
          "2013-05-31",
          "2013-06-30",
          "2013-07-31",
          "2013-08-31",
          "2013-09-30",
          "2013-10-31",
          "2013-11-30",
          "2013-12-31",
          "2014-01-31",
          "2014-02-28",
          "2014-03-31",
          "2014-04-30",
          "2014-05-31",
          "2014-06-30",
          "2014-07-31",
          "2014-08-31",
          "2014-09-30",
          "2014-10-31",
          "2014-11-30",
          "2014-12-31",
          "2015-01-31",
          "2015-02-28",
          "2015-03-31",
          "2015-04-30",
          "2015-05-31",
          "2015-06-30",
          "2015-07-31",
          "2015-08-31",
          "2015-09-30",
          "2015-10-31",
          "2015-11-30",
          "2015-12-31",
          "2016-01-31",
          "2016-02-29",
          "2016-03-31",
          "2016-04-30",
          "2016-05-31",
          "2016-06-30",
          "2016-07-31",
          "2016-08-31",
          "2016-09-30",
          "2016-10-31",
          "2016-11-30",
          "2016-12-31",
          "2017-01-31",
          "2017-02-28",
          "2017-03-31",
          "2017-04-30",
          "2017-05-31",
          "2017-06-30",
          "2017-07-31",
          "2017-08-31",
          "2017-09-30",
          "2017-10-31",
          "2017-11-30",
          "2017-12-31",
          "2018-01-31",
          "2018-02-28",
          "2018-03-31",
          "2018-04-30",
          "2018-05-31",
          "2018-06-30",
          "2018-07-31",
          "2018-08-31",
          "2018-09-30",
          "2018-10-31",
          "2018-11-30",
          "2018-12-31",
          "2019-01-31",
          "2019-02-28",
          "2019-03-31",
          "2019-04-30",
          "2019-05-31",
          "2019-06-30",
          "2019-07-31",
          "2019-08-31",
          "2019-09-30",
          "2019-10-31",
          "2019-11-30",
          "2019-12-31"
         ],
         "y": [
          51876702273.42301,
          47614817060.00769,
          57270205635.94054,
          89948042557.20905,
          27229959896.00806,
          32827695926.817818,
          28470574039.231346,
          34785026529.86141,
          38778143533.63493,
          44527057252.830734,
          56894664369.39795,
          147414624637.33932,
          65257446055.573296,
          59876459919.67619,
          70208819378.10558,
          99316611517.18608,
          34388041781.66563,
          39824299530.08554,
          36319524106.41977,
          41956545774.89921,
          48398289072.13418,
          54776800917.826385,
          68723562760.34032,
          171715090504.8789,
          79944288366.24306,
          72511911727.4294,
          82963800992.17703,
          120756656372.45087,
          50093272627.78502,
          55261833285.591446,
          53112082117.6474,
          59257477219.681366,
          63473181492.01763,
          70389446605.72614,
          84661868733.1832,
          186816048314.27124,
          94260870021.84848,
          84929594906.54297,
          97673638028.0664,
          134366828165.46461,
          57509795606.886986,
          61925793510.31171,
          57841893308.79406,
          64018923042.54215,
          69217288613.2083,
          76576899601.80315,
          91014708232.39159,
          206854407051.54373,
          100434552079.77164,
          87702594623.04076,
          100117920818.73552,
          130639065935.69322,
          45248759793.01754,
          68931479419.85104,
          47951764858.23396,
          54199525295.93774,
          62281834074.25386,
          72201765055.07155,
          89201217090.0183,
          224419185296.36255,
          104344183407.77597,
          87918655503.62961,
          101617886491.36952,
          159376508098.2026,
          54278218438.86685,
          57429615030.68085,
          57516497562.868454,
          65131920565.89082,
          67495193479.74654,
          78001667636.7637,
          95697222020.41035,
          229111210817.45807,
          103551156423.76785,
          91747785214.86082,
          108001025785.25804,
          164164550021.44202,
          54407782221.901054,
          87359110121.02121,
          55565081108.36303,
          66961094317.47587,
          70892585396.63988,
          83736922136.97714,
          100476359152.38187,
          231058599643.65613,
          111592305864.49878,
          104925647473.51266,
          120706909531.00568,
          158996545711.44296,
          58786797633.64356,
          98779916059.48299,
          56215851595.34276,
          72059679709.46678,
          78903519691.36398,
          91735449949.0099,
          108785916586.15176,
          266499687289.83527,
          126628960363.57932,
          122816887478.4984,
          138513460723.2027,
          205385547005.33548,
          79207651586.39021,
          81691477815.87956,
          83209244458.65515,
          89016525391.85355,
          97977862346.39886,
          106952011966.11607,
          128766665860.07452,
          276527246941.33984,
          138982997205.08746,
          133634030399.00006,
          151465602600.10822,
          219285054583.42908,
          94411792093.45894,
          98589421780.21431,
          91806929423.31157,
          103600918814.7915,
          112755222677.24753,
          119941227376.92816,
          140929125140.63376,
          331878434066.2892,
          156523236224.1122,
          152457555658.93155,
          171522442779.6747,
          231485539368.35764,
          108607307152.1571,
          111215813389.33803,
          102279095349.25063,
          120139070469.78203,
          128047841343.35406,
          138187430811.80988,
          163749070568.3062,
          374381826106.65015
         ]
        }
       ],
       "layout": {
        "annotations": [
         {
          "arrowhead": 0,
          "ax": -60,
          "ay": 0,
          "showarrow": true,
          "text": "Train End Date",
          "x": "2018-12-31",
          "xref": "x",
          "y": 0.97,
          "yref": "paper"
         }
        ],
        "legend": {
         "traceorder": "reversed"
        },
        "shapes": [
         {
          "line": {
           "color": "rgba(100, 100, 100, 0.9)",
           "width": 1
          },
          "type": "line",
          "x0": "2018-12-31",
          "x1": "2018-12-31",
          "xref": "x",
          "y0": 0,
          "y1": 1,
          "yref": "paper"
         }
        ],
        "showlegend": true,
        "title": {
         "text": "Forecast vs Actual"
        },
        "xaxis": {
         "title": {
          "text": "ts"
         }
        },
        "yaxis": {
         "title": {
          "text": "y"
         }
        }
       }
      },
      "text/html": [
       "<div>\n",
       "        \n",
       "        \n",
       "            <div id=\"b7684b64-50ec-4d58-b191-9e0cb1a02c23\" class=\"plotly-graph-div\" style=\"height:525px; width:100%;\"></div>\n",
       "            <script type=\"text/javascript\">\n",
       "                require([\"plotly\"], function(Plotly) {\n",
       "                    window.PLOTLYENV=window.PLOTLYENV || {};\n",
       "                    window.PLOTLYENV.BASE_URL='https://plot.ly';\n",
       "                    \n",
       "                if (document.getElementById(\"b7684b64-50ec-4d58-b191-9e0cb1a02c23\")) {\n",
       "                    Plotly.newPlot(\n",
       "                        'b7684b64-50ec-4d58-b191-9e0cb1a02c23',\n",
       "                        [{\"legendgroup\": \"interval\", \"line\": {\"color\": \"rgba(0, 90, 181, 0.5)\", \"width\": 0.0}, \"mode\": \"lines\", \"name\": \"Lower Bound\", \"type\": \"scatter\", \"uid\": \"e82e2c0b-7a2c-44e8-934d-4418ff82b306\", \"x\": [\"2009-01-31\", \"2009-02-28\", \"2009-03-31\", \"2009-04-30\", \"2009-05-31\", \"2009-06-30\", \"2009-07-31\", \"2009-08-31\", \"2009-09-30\", \"2009-10-31\", \"2009-11-30\", \"2009-12-31\", \"2010-01-31\", \"2010-02-28\", \"2010-03-31\", \"2010-04-30\", \"2010-05-31\", \"2010-06-30\", \"2010-07-31\", \"2010-08-31\", \"2010-09-30\", \"2010-10-31\", \"2010-11-30\", \"2010-12-31\", \"2011-01-31\", \"2011-02-28\", \"2011-03-31\", \"2011-04-30\", \"2011-05-31\", \"2011-06-30\", \"2011-07-31\", \"2011-08-31\", \"2011-09-30\", \"2011-10-31\", \"2011-11-30\", \"2011-12-31\", \"2012-01-31\", \"2012-02-29\", \"2012-03-31\", \"2012-04-30\", \"2012-05-31\", \"2012-06-30\", \"2012-07-31\", \"2012-08-31\", \"2012-09-30\", \"2012-10-31\", \"2012-11-30\", \"2012-12-31\", \"2013-01-31\", \"2013-02-28\", \"2013-03-31\", \"2013-04-30\", \"2013-05-31\", \"2013-06-30\", \"2013-07-31\", \"2013-08-31\", \"2013-09-30\", \"2013-10-31\", \"2013-11-30\", \"2013-12-31\", \"2014-01-31\", \"2014-02-28\", \"2014-03-31\", \"2014-04-30\", \"2014-05-31\", \"2014-06-30\", \"2014-07-31\", \"2014-08-31\", \"2014-09-30\", \"2014-10-31\", \"2014-11-30\", \"2014-12-31\", \"2015-01-31\", \"2015-02-28\", \"2015-03-31\", \"2015-04-30\", \"2015-05-31\", \"2015-06-30\", \"2015-07-31\", \"2015-08-31\", \"2015-09-30\", \"2015-10-31\", \"2015-11-30\", \"2015-12-31\", \"2016-01-31\", \"2016-02-29\", \"2016-03-31\", \"2016-04-30\", \"2016-05-31\", \"2016-06-30\", \"2016-07-31\", \"2016-08-31\", \"2016-09-30\", \"2016-10-31\", \"2016-11-30\", \"2016-12-31\", \"2017-01-31\", \"2017-02-28\", \"2017-03-31\", \"2017-04-30\", \"2017-05-31\", \"2017-06-30\", \"2017-07-31\", \"2017-08-31\", \"2017-09-30\", \"2017-10-31\", \"2017-11-30\", \"2017-12-31\", \"2018-01-31\", \"2018-02-28\", \"2018-03-31\", \"2018-04-30\", \"2018-05-31\", \"2018-06-30\", \"2018-07-31\", \"2018-08-31\", \"2018-09-30\", \"2018-10-31\", \"2018-11-30\", \"2018-12-31\", \"2019-01-31\", \"2019-02-28\", \"2019-03-31\", \"2019-04-30\", \"2019-05-31\", \"2019-06-30\", \"2019-07-31\", \"2019-08-31\", \"2019-09-30\", \"2019-10-31\", \"2019-11-30\", \"2019-12-31\"], \"y\": [1790157299.9649277, -2471727913.4503937, 7183660662.482452, 39861497583.75096, -22856585077.450024, -17258849046.640266, -21615970934.226738, -15301518443.596672, -11308401439.82315, -5559487720.62735, 6808119395.939865, 97328079663.88124, 15170901082.115211, 9789914946.21811, 20122274404.64749, 49230066543.728, -15698503191.792458, -10262245443.372543, -13767020867.038315, -8129999198.558876, -1688255901.323906, 4690255944.368301, 18637017786.882233, 121628545531.42082, 29857743392.784973, 22425366753.971313, 32877256018.71895, 70670111398.99278, 6727654.326934814, 5175288312.133362, 3025537144.189316, 9170932246.223282, 13386636518.559547, 20302901632.26805, 34575323759.72511, 136729503340.81316, 44174325048.390396, 34843049933.084885, 47587093054.60832, 84280283192.00653, 7423250633.428902, 11839248536.853622, 7755348335.335976, 13932378069.084068, 19130743639.750214, 26490354628.345062, 40928163258.9335, 156767862078.08563, 50348007106.31355, 37616049649.58267, 50031375845.277435, 80552520962.23514, -4837785180.440544, 18844934446.39296, -2134780115.224121, 4112980322.4796524, 12195289100.795776, 22115220081.613464, 39114672116.56021, 174332640322.90448, 54257638434.31789, 37832110530.171524, 51531341517.91144, 109289963124.74452, 4191673465.4087677, 7343070057.222763, 7429952589.41037, 15045375592.43274, 17408648506.288452, 27915122663.30562, 45610677046.95227, 179024665844.0, 53464611450.30977, 41661240241.40274, 57914480811.79996, 114078005047.98393, 4321237248.44297, 37272565147.563126, 5478536134.904945, 16874549344.017784, 20806040423.181793, 33650377163.51906, 50389814178.92378, 180972054670.19806, 61505760891.040695, 54839102500.05458, 70620364557.54759, 108910000737.98488, 8700252660.185478, 48693371086.0249, 6129306621.884674, 21973134736.008698, 28816974717.9059, 41648904975.55182, 58699371612.69368, 216413142316.3772, 76542415390.12123, 72730342505.04031, 88426915749.74461, 155299002031.87738, 29121106612.93213, 31604932842.42148, 33122699485.197067, 38929980418.39546, 47891317372.94078, 56865466992.65799, 78680120886.61644, 226440701967.88177, 88896452231.62938, 83547485425.54198, 101379057626.65013, 169198509609.971, 44325247120.000854, 48502876806.756226, 41720384449.853485, 53514373841.33342, 62668677703.789444, 69854682403.47008, 90842580167.17567, 281791889092.8311, 106436691250.65413, 102371010685.47346, 121435897806.21663, 181398994394.89954, 58520762178.69902, 61129268415.879944, 52192550375.79254, 70052525496.32394, 77961296369.89598, 88100885838.35179, 113662525594.84813, 324295281133.1921]}, {\"fill\": \"tonexty\", \"fillcolor\": \"rgba(0, 90, 181, 0.15)\", \"legendgroup\": \"interval\", \"line\": {\"color\": \"rgba(0, 90, 181, 0.5)\", \"width\": 0.0}, \"mode\": \"lines\", \"name\": \"Upper Bound\", \"type\": \"scatter\", \"uid\": \"a7daa734-040b-4de9-a301-16fae3ca5e40\", \"x\": [\"2009-01-31\", \"2009-02-28\", \"2009-03-31\", \"2009-04-30\", \"2009-05-31\", \"2009-06-30\", \"2009-07-31\", \"2009-08-31\", \"2009-09-30\", \"2009-10-31\", \"2009-11-30\", \"2009-12-31\", \"2010-01-31\", \"2010-02-28\", \"2010-03-31\", \"2010-04-30\", \"2010-05-31\", \"2010-06-30\", \"2010-07-31\", \"2010-08-31\", \"2010-09-30\", \"2010-10-31\", \"2010-11-30\", \"2010-12-31\", \"2011-01-31\", \"2011-02-28\", \"2011-03-31\", \"2011-04-30\", \"2011-05-31\", \"2011-06-30\", \"2011-07-31\", \"2011-08-31\", \"2011-09-30\", \"2011-10-31\", \"2011-11-30\", \"2011-12-31\", \"2012-01-31\", \"2012-02-29\", \"2012-03-31\", \"2012-04-30\", \"2012-05-31\", \"2012-06-30\", \"2012-07-31\", \"2012-08-31\", \"2012-09-30\", \"2012-10-31\", \"2012-11-30\", \"2012-12-31\", \"2013-01-31\", \"2013-02-28\", \"2013-03-31\", \"2013-04-30\", \"2013-05-31\", \"2013-06-30\", \"2013-07-31\", \"2013-08-31\", \"2013-09-30\", \"2013-10-31\", \"2013-11-30\", \"2013-12-31\", \"2014-01-31\", \"2014-02-28\", \"2014-03-31\", \"2014-04-30\", \"2014-05-31\", \"2014-06-30\", \"2014-07-31\", \"2014-08-31\", \"2014-09-30\", \"2014-10-31\", \"2014-11-30\", \"2014-12-31\", \"2015-01-31\", \"2015-02-28\", \"2015-03-31\", \"2015-04-30\", \"2015-05-31\", \"2015-06-30\", \"2015-07-31\", \"2015-08-31\", \"2015-09-30\", \"2015-10-31\", \"2015-11-30\", \"2015-12-31\", \"2016-01-31\", \"2016-02-29\", \"2016-03-31\", \"2016-04-30\", \"2016-05-31\", \"2016-06-30\", \"2016-07-31\", \"2016-08-31\", \"2016-09-30\", \"2016-10-31\", \"2016-11-30\", \"2016-12-31\", \"2017-01-31\", \"2017-02-28\", \"2017-03-31\", \"2017-04-30\", \"2017-05-31\", \"2017-06-30\", \"2017-07-31\", \"2017-08-31\", \"2017-09-30\", \"2017-10-31\", \"2017-11-30\", \"2017-12-31\", \"2018-01-31\", \"2018-02-28\", \"2018-03-31\", \"2018-04-30\", \"2018-05-31\", \"2018-06-30\", \"2018-07-31\", \"2018-08-31\", \"2018-09-30\", \"2018-10-31\", \"2018-11-30\", \"2018-12-31\", \"2019-01-31\", \"2019-02-28\", \"2019-03-31\", \"2019-04-30\", \"2019-05-31\", \"2019-06-30\", \"2019-07-31\", \"2019-08-31\", \"2019-09-30\", \"2019-10-31\", \"2019-11-30\", \"2019-12-31\"], \"y\": [101963247246.8811, 97701362033.46577, 107356750609.39862, 140034587530.6671, 77316504869.46614, 82914240900.27591, 78557119012.68942, 84871571503.31949, 88864688507.09302, 94613602226.28882, 106981209342.85603, 197501169610.79742, 115343991029.03137, 109963004893.13428, 120295364351.56366, 149403156490.64417, 84474586755.12372, 89910844503.54362, 86406069079.87785, 92043090748.3573, 98484834045.59225, 104863345891.28447, 118810107733.7984, 221801635478.33698, 130030833339.70114, 122598456700.88748, 133050345965.63512, 170843201345.90894, 100179817601.2431, 105348378259.04953, 103198627091.10548, 109344022193.13945, 113559726465.47571, 120475991579.18422, 134748413706.64128, 236902593287.7293, 144347414995.30658, 135016139880.00105, 147760183001.52448, 184453373138.9227, 107596340580.34506, 112012338483.76979, 107928438282.25214, 114105468016.00024, 119303833586.66638, 126663444575.26123, 141101253205.84967, 256940952025.00183, 150521097053.22974, 137789139596.49884, 150204465792.1936, 180725610909.1513, 95335304766.47562, 119018024393.30913, 98038309831.69205, 104286070269.39581, 112368379047.71194, 122288310028.52963, 139287762063.47638, 274505730269.82062, 154430728381.23407, 138005200477.0877, 151704431464.8276, 209463053071.6607, 104364763412.32494, 107516160004.13893, 107603042536.32654, 115218465539.3489, 117581738453.20462, 128088212610.22179, 145783766993.86844, 279197755790.91614, 153637701397.22595, 141834330188.3189, 158087570758.71613, 214251094994.9001, 104494327195.35913, 137445655094.4793, 105651626081.8211, 117047639290.93396, 120979130370.09796, 133823467110.43523, 150562904125.83997, 281145144617.1142, 161678850837.95685, 155012192446.97076, 170793454504.46375, 209083090684.90106, 108873342607.10165, 148866461032.94107, 106302396568.80084, 122146224682.92487, 128990064664.82207, 141821994922.468, 158872461559.60986, 316586232263.29333, 176715505337.0374, 172903432451.95648, 188600005696.66077, 255472091978.79358, 129294196559.8483, 131778022789.33765, 133295789432.11324, 139103070365.31165, 148064407319.85693, 157038556939.57416, 178853210833.5326, 326613791914.7979, 189069542178.54553, 183720575372.45813, 201552147573.56628, 269371599556.88715, 144498337066.91702, 148675966753.6724, 141893474396.76965, 153687463788.24957, 162841767650.70563, 170027772350.38623, 191015670114.09186, 381964979039.74725, 206609781197.5703, 202544100632.38965, 221608987753.1328, 281572084341.81573, 158693852125.61517, 161302358362.7961, 152365640322.7087, 170225615443.2401, 178134386316.81213, 188273975785.26794, 213835615541.76428, 424468371080.1082]}, {\"line\": {\"color\": \"rgba(250, 43, 20, 0.7)\"}, \"marker\": {\"color\": \"rgba(250, 43, 20, 0.7)\", \"size\": 2.0}, \"mode\": \"lines+markers\", \"name\": \"Actual\", \"opacity\": 1.0, \"type\": \"scatter\", \"uid\": \"2399d807-a5aa-4337-812d-c672e276b2aa\", \"x\": [\"2009-01-31\", \"2009-02-28\", \"2009-03-31\", \"2009-04-30\", \"2009-05-31\", \"2009-06-30\", \"2009-07-31\", \"2009-08-31\", \"2009-09-30\", \"2009-10-31\", \"2009-11-30\", \"2009-12-31\", \"2010-01-31\", \"2010-02-28\", \"2010-03-31\", \"2010-04-30\", \"2010-05-31\", \"2010-06-30\", \"2010-07-31\", \"2010-08-31\", \"2010-09-30\", \"2010-10-31\", \"2010-11-30\", \"2010-12-31\", \"2011-01-31\", \"2011-02-28\", \"2011-03-31\", \"2011-04-30\", \"2011-05-31\", \"2011-06-30\", \"2011-07-31\", \"2011-08-31\", \"2011-09-30\", \"2011-10-31\", \"2011-11-30\", \"2011-12-31\", \"2012-01-31\", \"2012-02-29\", \"2012-03-31\", \"2012-04-30\", \"2012-05-31\", \"2012-06-30\", \"2012-07-31\", \"2012-08-31\", \"2012-09-30\", \"2012-10-31\", \"2012-11-30\", \"2012-12-31\", \"2013-01-31\", \"2013-02-28\", \"2013-03-31\", \"2013-04-30\", \"2013-05-31\", \"2013-06-30\", \"2013-07-31\", \"2013-08-31\", \"2013-09-30\", \"2013-10-31\", \"2013-11-30\", \"2013-12-31\", \"2014-01-31\", \"2014-02-28\", \"2014-03-31\", \"2014-04-30\", \"2014-05-31\", \"2014-06-30\", \"2014-07-31\", \"2014-08-31\", \"2014-09-30\", \"2014-10-31\", \"2014-11-30\", \"2014-12-31\", \"2015-01-31\", \"2015-02-28\", \"2015-03-31\", \"2015-04-30\", \"2015-05-31\", \"2015-06-30\", \"2015-07-31\", \"2015-08-31\", \"2015-09-30\", \"2015-10-31\", \"2015-11-30\", \"2015-12-31\", \"2016-01-31\", \"2016-02-29\", \"2016-03-31\", \"2016-04-30\", \"2016-05-31\", \"2016-06-30\", \"2016-07-31\", \"2016-08-31\", \"2016-09-30\", \"2016-10-31\", \"2016-11-30\", \"2016-12-31\", \"2017-01-31\", \"2017-02-28\", \"2017-03-31\", \"2017-04-30\", \"2017-05-31\", \"2017-06-30\", \"2017-07-31\", \"2017-08-31\", \"2017-09-30\", \"2017-10-31\", \"2017-11-30\", \"2017-12-31\", \"2018-01-31\", \"2018-02-28\", \"2018-03-31\", \"2018-04-30\", \"2018-05-31\", \"2018-06-30\", \"2018-07-31\", \"2018-08-31\", \"2018-09-30\", \"2018-10-31\", \"2018-11-30\", \"2018-12-31\", \"2019-01-31\", \"2019-02-28\", \"2019-03-31\", \"2019-04-30\", \"2019-05-31\", \"2019-06-30\", \"2019-07-31\", \"2019-08-31\", \"2019-09-30\", \"2019-10-31\", \"2019-11-30\", \"2019-12-31\"], \"y\": [68915876000.0, 60210075000.0, 65476422000.0, 37704039000.0, 20508038000.0, 19251853000.0, 25882496000.0, 20612571000.0, 39661124000.0, 44558945000.0, 56843634000.0, 153863467000.0, 79076384000.0, 54412239000.0, 60608442000.0, 100399610000.0, 38590877000.0, 35252201000.0, 52423959000.0, 51108814000.0, 52840383000.0, 61921538000.0, 76739630000.0, 167245496000.0, 86379906000.0, 58782444000.0, 75513724000.0, 145378148000.0, 59314415000.0, 61140540000.0, 63631370000.0, 79469845000.0, 71640787000.0, 86944893000.0, 95246531000.0, 166937448000.0, 91731787000.0, 84350074000.0, 97373785000.0, 84226154000.0, 34104728000.0, 190955254000.0, 35500647000.0, 55818416000.0, 60432628000.0, 81082392000.0, 83823311000.0, 141817659000.0, 102577171000.0, 99078117000.0, 105782719000.0, 141895255000.0, 51956805000.0, 45633310000.0, 55617785000.0, 55658514000.0, 60040568000.0, 69121991000.0, 81805634000.0, 163568728000.0, 84661292000.0, 94264470000.0, 107151010000.0, 192463682000.0, 59700315000.0, 60473778000.0, 68250949000.0, 60799481000.0, 77182042000.0, 76686972000.0, 92408536000.0, 195624279000.0, 94825682000.0, 94274888000.0, 109722819000.0, 127083323000.0, 50478556000.0, 46731453000.0, 14035469000.0, 52179105000.0, 60402979000.0, 66355138000.0, 80642290000.0, 386399463000.0, 117668583000.0, 114419773000.0, 131893252000.0, 215099771000.0, 67191809000.0, 53568899000.0, 70985444000.0, 77705006000.0, 86113204000.0, 96030974000.0, 125354159000.0, 281333640000.0, 132066820000.0, 107545474000.0, 127012031000.0, 224058578000.0, 84822036000.0, 77967817000.0, 91020629000.0, 94332277000.0, 94121738000.0, 98292981000.0, 117745709000.0, 289799362000.0, 118970028000.0, 126340576000.0, 148005282000.0, 213927025000.0, 88894681000.0, 91645697000.0, 90661027000.0, 103303630000.0, 107737843000.0, 117843839000.0, 154541618000.0, 325705732000.0, 153266215000.0, 144911380000.0, 170328739000.0, 240492956000.0, 100255999000.0, 111317861000.0, 101815052000.0, 121132096000.0, 130018596000.0, 127347435814.0, 188544740679.0, 385334049000.0]}, {\"line\": {\"color\": \"rgba(0, 90, 181, 0.7)\", \"dash\": \"solid\"}, \"name\": \"Forecast\", \"type\": \"scatter\", \"uid\": \"c3b6386f-7398-4abd-bed5-6286f42f7f4a\", \"x\": [\"2009-01-31\", \"2009-02-28\", \"2009-03-31\", \"2009-04-30\", \"2009-05-31\", \"2009-06-30\", \"2009-07-31\", \"2009-08-31\", \"2009-09-30\", \"2009-10-31\", \"2009-11-30\", \"2009-12-31\", \"2010-01-31\", \"2010-02-28\", \"2010-03-31\", \"2010-04-30\", \"2010-05-31\", \"2010-06-30\", \"2010-07-31\", \"2010-08-31\", \"2010-09-30\", \"2010-10-31\", \"2010-11-30\", \"2010-12-31\", \"2011-01-31\", \"2011-02-28\", \"2011-03-31\", \"2011-04-30\", \"2011-05-31\", \"2011-06-30\", \"2011-07-31\", \"2011-08-31\", \"2011-09-30\", \"2011-10-31\", \"2011-11-30\", \"2011-12-31\", \"2012-01-31\", \"2012-02-29\", \"2012-03-31\", \"2012-04-30\", \"2012-05-31\", \"2012-06-30\", \"2012-07-31\", \"2012-08-31\", \"2012-09-30\", \"2012-10-31\", \"2012-11-30\", \"2012-12-31\", \"2013-01-31\", \"2013-02-28\", \"2013-03-31\", \"2013-04-30\", \"2013-05-31\", \"2013-06-30\", \"2013-07-31\", \"2013-08-31\", \"2013-09-30\", \"2013-10-31\", \"2013-11-30\", \"2013-12-31\", \"2014-01-31\", \"2014-02-28\", \"2014-03-31\", \"2014-04-30\", \"2014-05-31\", \"2014-06-30\", \"2014-07-31\", \"2014-08-31\", \"2014-09-30\", \"2014-10-31\", \"2014-11-30\", \"2014-12-31\", \"2015-01-31\", \"2015-02-28\", \"2015-03-31\", \"2015-04-30\", \"2015-05-31\", \"2015-06-30\", \"2015-07-31\", \"2015-08-31\", \"2015-09-30\", \"2015-10-31\", \"2015-11-30\", \"2015-12-31\", \"2016-01-31\", \"2016-02-29\", \"2016-03-31\", \"2016-04-30\", \"2016-05-31\", \"2016-06-30\", \"2016-07-31\", \"2016-08-31\", \"2016-09-30\", \"2016-10-31\", \"2016-11-30\", \"2016-12-31\", \"2017-01-31\", \"2017-02-28\", \"2017-03-31\", \"2017-04-30\", \"2017-05-31\", \"2017-06-30\", \"2017-07-31\", \"2017-08-31\", \"2017-09-30\", \"2017-10-31\", \"2017-11-30\", \"2017-12-31\", \"2018-01-31\", \"2018-02-28\", \"2018-03-31\", \"2018-04-30\", \"2018-05-31\", \"2018-06-30\", \"2018-07-31\", \"2018-08-31\", \"2018-09-30\", \"2018-10-31\", \"2018-11-30\", \"2018-12-31\", \"2019-01-31\", \"2019-02-28\", \"2019-03-31\", \"2019-04-30\", \"2019-05-31\", \"2019-06-30\", \"2019-07-31\", \"2019-08-31\", \"2019-09-30\", \"2019-10-31\", \"2019-11-30\", \"2019-12-31\"], \"y\": [51876702273.42301, 47614817060.00769, 57270205635.94054, 89948042557.20905, 27229959896.00806, 32827695926.817818, 28470574039.231346, 34785026529.86141, 38778143533.63493, 44527057252.830734, 56894664369.39795, 147414624637.33932, 65257446055.573296, 59876459919.67619, 70208819378.10558, 99316611517.18608, 34388041781.66563, 39824299530.08554, 36319524106.41977, 41956545774.89921, 48398289072.13418, 54776800917.826385, 68723562760.34032, 171715090504.8789, 79944288366.24306, 72511911727.4294, 82963800992.17703, 120756656372.45087, 50093272627.78502, 55261833285.591446, 53112082117.6474, 59257477219.681366, 63473181492.01763, 70389446605.72614, 84661868733.1832, 186816048314.27124, 94260870021.84848, 84929594906.54297, 97673638028.0664, 134366828165.46461, 57509795606.886986, 61925793510.31171, 57841893308.79406, 64018923042.54215, 69217288613.2083, 76576899601.80315, 91014708232.39159, 206854407051.54373, 100434552079.77164, 87702594623.04076, 100117920818.73552, 130639065935.69322, 45248759793.01754, 68931479419.85104, 47951764858.23396, 54199525295.93774, 62281834074.25386, 72201765055.07155, 89201217090.0183, 224419185296.36255, 104344183407.77597, 87918655503.62961, 101617886491.36952, 159376508098.2026, 54278218438.86685, 57429615030.68085, 57516497562.868454, 65131920565.89082, 67495193479.74654, 78001667636.7637, 95697222020.41035, 229111210817.45807, 103551156423.76785, 91747785214.86082, 108001025785.25804, 164164550021.44202, 54407782221.901054, 87359110121.02121, 55565081108.36303, 66961094317.47587, 70892585396.63988, 83736922136.97714, 100476359152.38187, 231058599643.65613, 111592305864.49878, 104925647473.51266, 120706909531.00568, 158996545711.44296, 58786797633.64356, 98779916059.48299, 56215851595.34276, 72059679709.46678, 78903519691.36398, 91735449949.0099, 108785916586.15176, 266499687289.83527, 126628960363.57932, 122816887478.4984, 138513460723.2027, 205385547005.33548, 79207651586.39021, 81691477815.87956, 83209244458.65515, 89016525391.85355, 97977862346.39886, 106952011966.11607, 128766665860.07452, 276527246941.33984, 138982997205.08746, 133634030399.00006, 151465602600.10822, 219285054583.42908, 94411792093.45894, 98589421780.21431, 91806929423.31157, 103600918814.7915, 112755222677.24753, 119941227376.92816, 140929125140.63376, 331878434066.2892, 156523236224.1122, 152457555658.93155, 171522442779.6747, 231485539368.35764, 108607307152.1571, 111215813389.33803, 102279095349.25063, 120139070469.78203, 128047841343.35406, 138187430811.80988, 163749070568.3062, 374381826106.65015]}],\n",
       "                        {\"annotations\": [{\"arrowhead\": 0, \"ax\": -60, \"ay\": 0, \"showarrow\": true, \"text\": \"Train End Date\", \"x\": \"2018-12-31\", \"xref\": \"x\", \"y\": 0.97, \"yref\": \"paper\"}], \"legend\": {\"traceorder\": \"reversed\"}, \"shapes\": [{\"line\": {\"color\": \"rgba(100, 100, 100, 0.9)\", \"width\": 1.0}, \"type\": \"line\", \"x0\": \"2018-12-31\", \"x1\": \"2018-12-31\", \"xref\": \"x\", \"y0\": 0, \"y1\": 1, \"yref\": \"paper\"}], \"showlegend\": true, \"title\": {\"text\": \"Forecast vs Actual\"}, \"xaxis\": {\"title\": {\"text\": \"ts\"}}, \"yaxis\": {\"title\": {\"text\": \"y\"}}},\n",
       "                        {\"plotlyServerURL\": \"https://plot.ly\", \"responsive\": true}\n",
       "                    ).then(function(){\n",
       "                            \n",
       "var gd = document.getElementById('b7684b64-50ec-4d58-b191-9e0cb1a02c23');\n",
       "var x = new MutationObserver(function (mutations, observer) {{\n",
       "        var display = window.getComputedStyle(gd).display;\n",
       "        if (!display || display === 'none') {{\n",
       "            console.log([gd, 'removed!']);\n",
       "            Plotly.purge(gd);\n",
       "            observer.disconnect();\n",
       "        }}\n",
       "}});\n",
       "\n",
       "// Listen for the removal of the full notebook cells\n",
       "var notebookContainer = gd.closest('#notebook-container');\n",
       "if (notebookContainer) {{\n",
       "    x.observe(notebookContainer, {childList: true});\n",
       "}}\n",
       "\n",
       "// Listen for the clearing of the current output cell\n",
       "var outputEl = gd.closest('.output');\n",
       "if (outputEl) {{\n",
       "    x.observe(outputEl, {childList: true});\n",
       "}}\n",
       "\n",
       "                        })\n",
       "                };\n",
       "                });\n",
       "            </script>\n",
       "        </div>"
      ]
     },
     "metadata": {},
     "output_type": "display_data"
    }
   ],
   "source": [
    "backtest = result.backtest\n",
    "fig = backtest.plot()\n",
    "plotly.io.show(fig)"
   ]
  },
  {
   "cell_type": "code",
   "execution_count": 50,
   "metadata": {
    "ExecuteTime": {
     "end_time": "2021-11-02T14:56:18.531355Z",
     "start_time": "2021-11-02T14:56:18.509557Z"
    }
   },
   "outputs": [
    {
     "data": {
      "text/plain": [
       "3.958099068611889"
      ]
     },
     "execution_count": 50,
     "metadata": {},
     "output_type": "execute_result"
    }
   ],
   "source": [
    "mean_absolute_percentage_error(silverkyte_test_df.actual,silverkyte_test_df.forecast)"
   ]
  },
  {
   "cell_type": "code",
   "execution_count": 42,
   "metadata": {
    "ExecuteTime": {
     "end_time": "2021-11-02T14:50:56.175984Z",
     "start_time": "2021-11-02T14:50:56.138864Z"
    }
   },
   "outputs": [
    {
     "name": "stdout",
     "output_type": "stream",
     "text": [
      "================================ Model Summary =================================\n",
      "\n",
      "Number of observations: 132,   Number of features: 19\n",
      "Method: Ordinary least squares\n",
      "Number of nonzero features: 19\n",
      "\n",
      "Residuals:\n",
      "         Min           1Q       Median           3Q          Max\n",
      "  -6.337e+10   -7.973e+09    1.067e+08    8.328e+09    1.512e+11\n",
      "\n",
      "         Pred_col   Estimate  Std. Err    t value Pr(>|t|) sig. code                    95%CI\n",
      "        Intercept  1.302e+10 3.001e-13  4.339e+22   <2e-16       ***   (1.302e+10, 1.302e+10)\n",
      "              jan  3.591e+09 3.841e-14  9.348e+22   <2e-16       ***   (3.591e+09, 3.591e+09)\n",
      "              feb -1.851e+09 3.993e-14 -4.636e+22   <2e-16       *** (-1.851e+09, -1.851e+09)\n",
      "              mar  7.160e+09 2.101e-14  3.408e+23   <2e-16       ***   (7.160e+09, 7.160e+09)\n",
      "              apr  3.917e+10 7.851e-14  4.989e+23   <2e-16       ***   (3.917e+10, 3.917e+10)\n",
      "              may -2.486e+10 6.500e-14 -3.824e+23   <2e-16       *** (-2.486e+10, -2.486e+10)\n",
      "              jun -1.994e+10 9.521e-14 -2.094e+23   <2e-16       *** (-1.994e+10, -1.994e+10)\n",
      "              jul -2.534e+10 5.917e-14 -4.283e+23   <2e-16       *** (-2.534e+10, -2.534e+10)\n",
      "              aug -2.026e+10 5.599e-14 -3.618e+23   <2e-16       *** (-2.026e+10, -2.026e+10)\n",
      "              sep -1.746e+10 5.493e-14 -3.179e+23   <2e-16       *** (-1.746e+10, -1.746e+10)\n",
      "              oct -1.407e+10 5.103e-14 -2.757e+23   <2e-16       *** (-1.407e+10, -1.407e+10)\n",
      "              nov  2.960e+08 1.883e-14  1.572e+22   <2e-16       ***   (2.960e+08, 2.960e+08)\n",
      "              dec  8.658e+10 1.276e-13  6.784e+23   <2e-16       ***   (8.658e+10, 8.658e+10)\n",
      "              ct1  1.056e+10 8.629e-13  1.224e+22   <2e-16       ***   (1.056e+10, 1.056e+10)\n",
      "cp0_2012_09_30_00 -9.315e+09 7.857e-13 -1.186e+22   <2e-16       *** (-9.315e+09, -9.315e+09)\n",
      "cp1_2016_05_31_00  1.214e+10 4.954e-13  2.450e+22   <2e-16       ***   (1.214e+10, 1.214e+10)\n",
      "          y_lag12     0.1422    0.0593      2.398    0.018         *        (0.02489, 0.2595)\n",
      "          y_lag36      0.168   0.07223      2.326    0.022         *        (0.02511, 0.3109)\n",
      "          y_lag48     0.2467   0.07512      3.284    0.001        **        (0.09803, 0.3953)\n",
      "Signif. Code: 0 '***' 0.001 '**' 0.01 '*' 0.05 '.' 0.1 ' ' 1\n",
      "\n",
      "Multiple R-squared: 0.8518,   Adjusted R-squared: 0.8495\n",
      "F-statistic: 370.74 on 2 and 129 DF,   p-value: 1.110e-16\n",
      "Model AIC: 6969.5,   model BIC: 6978.2\n",
      "\n",
      "WARNING: the condition number is large, 7.45e+26. This might indicate that there are strong multicollinearity or other numerical problems.\n",
      "\n"
     ]
    }
   ],
   "source": [
    "summary = result.model[-1].summary(max_colwidth=30)\n",
    "print(summary)"
   ]
  },
  {
   "cell_type": "code",
   "execution_count": 43,
   "metadata": {
    "ExecuteTime": {
     "end_time": "2021-11-02T14:50:56.191076Z",
     "start_time": "2021-11-02T14:50:56.175984Z"
    }
   },
   "outputs": [],
   "source": [
    "silverkyte_test_df=backtest.df.query('\"2019-01-01\"<ts<\"2020-01-01\"')\n",
    "_test_df['silverkyte_forecast']=np.array(silverkyte_test_df['forecast'])\n",
    "_test_df['silverkyte_residuals'] = np.array(silverkyte_test_df['actual'] - silverkyte_test_df['forecast'])"
   ]
  },
  {
   "cell_type": "code",
   "execution_count": 44,
   "metadata": {
    "ExecuteTime": {
     "end_time": "2021-11-02T14:50:56.199077Z",
     "start_time": "2021-11-02T14:50:56.191076Z"
    }
   },
   "outputs": [
    {
     "name": "stdout",
     "output_type": "stream",
     "text": [
      "Null hypothesis is not rejected with Ljung-Box test statistic = 0.0958349845054339, p = 0.7568862535321844 for a = 0.05\n",
      "There is no autocorrelation in residuals\n"
     ]
    }
   ],
   "source": [
    "r2_score_silverkyte=r2_score(silverkyte_test_df['actual'],silverkyte_test_df['forecast'])\n",
    "silverkyte_mape=mean_absolute_percentage_error(silverkyte_test_df['actual'],silverkyte_test_df['forecast'])\n",
    "silverkyte_lbvalue, silverkyte_pvalue = ljungboxtest(0.05, np.array(_test_df['silverkyte_residuals']))"
   ]
  },
  {
   "cell_type": "markdown",
   "metadata": {},
   "source": [
    "###  Results"
   ]
  },
  {
   "cell_type": "code",
   "execution_count": 45,
   "metadata": {
    "ExecuteTime": {
     "end_time": "2021-11-02T14:50:56.231104Z",
     "start_time": "2021-11-02T14:50:56.199077Z"
    }
   },
   "outputs": [
    {
     "data": {
      "text/html": [
       "<div>\n",
       "<style scoped>\n",
       "    .dataframe tbody tr th:only-of-type {\n",
       "        vertical-align: middle;\n",
       "    }\n",
       "\n",
       "    .dataframe tbody tr th {\n",
       "        vertical-align: top;\n",
       "    }\n",
       "\n",
       "    .dataframe thead th {\n",
       "        text-align: right;\n",
       "    }\n",
       "</style>\n",
       "<table border=\"1\" class=\"dataframe\">\n",
       "  <thead>\n",
       "    <tr style=\"text-align: right;\">\n",
       "      <th></th>\n",
       "      <th>model_name</th>\n",
       "      <th>MAPE</th>\n",
       "      <th>R2</th>\n",
       "      <th>q_test</th>\n",
       "      <th>q_test_pvalue</th>\n",
       "    </tr>\n",
       "  </thead>\n",
       "  <tbody>\n",
       "    <tr>\n",
       "      <th>0</th>\n",
       "      <td>arima</td>\n",
       "      <td>7.859054</td>\n",
       "      <td>0.934752</td>\n",
       "      <td>0.007633</td>\n",
       "      <td>0.930381</td>\n",
       "    </tr>\n",
       "    <tr>\n",
       "      <th>0</th>\n",
       "      <td>fbprophet</td>\n",
       "      <td>5.668240</td>\n",
       "      <td>0.953201</td>\n",
       "      <td>1.217424</td>\n",
       "      <td>0.269867</td>\n",
       "    </tr>\n",
       "    <tr>\n",
       "      <th>0</th>\n",
       "      <td>silverkyte</td>\n",
       "      <td>3.958099</td>\n",
       "      <td>0.984828</td>\n",
       "      <td>0.095835</td>\n",
       "      <td>0.756886</td>\n",
       "    </tr>\n",
       "  </tbody>\n",
       "</table>\n",
       "</div>"
      ],
      "text/plain": [
       "   model_name     MAPE       R2   q_test  q_test_pvalue\n",
       "0       arima 7.859054 0.934752 0.007633       0.930381\n",
       "0   fbprophet 5.668240 0.953201 1.217424       0.269867\n",
       "0  silverkyte 3.958099 0.984828 0.095835       0.756886"
      ]
     },
     "execution_count": 45,
     "metadata": {},
     "output_type": "execute_result"
    }
   ],
   "source": [
    "metrics_df = pd.DataFrame(columns = ['model_name', 'MAPE', 'R2', 'q_test', 'q_test_pvalue'])\n",
    "arima_metrics = pd.DataFrame([['arima', arima_mape, r2_score_arima, arima_lbvalue, arima_lb_pvalue]], \n",
    "                              columns = metrics_df.columns)\n",
    "fbprophet_metrics = pd.DataFrame([['fbprophet', fbprophet_mape, r2_score_prophet, fbp_lbvalue, fbp_pvalue]], \n",
    "                                   columns = metrics_df.columns)\n",
    "silverkyte_metrics = pd.DataFrame([['silverkyte', silverkyte_mape, r2_score_silverkyte, silverkyte_lbvalue, silverkyte_pvalue]], \n",
    "                                   columns = metrics_df.columns)\n",
    "\n",
    "list_of_dfs = [arima_metrics, fbprophet_metrics,silverkyte_metrics]\n",
    "\n",
    "for df in list_of_dfs:\n",
    "    metrics_df = metrics_df.append(df)\n",
    "    \n",
    "metrics_df"
   ]
  },
  {
   "cell_type": "code",
   "execution_count": 47,
   "metadata": {
    "ExecuteTime": {
     "end_time": "2021-11-02T14:52:04.603137Z",
     "start_time": "2021-11-02T14:52:04.583495Z"
    }
   },
   "outputs": [],
   "source": [
    "metrics_df.to_csv('METRICS.csv',index=False)"
   ]
  },
  {
   "cell_type": "code",
   "execution_count": 46,
   "metadata": {
    "ExecuteTime": {
     "end_time": "2021-11-02T14:50:56.416017Z",
     "start_time": "2021-11-02T14:50:56.231104Z"
    }
   },
   "outputs": [
    {
     "data": {
      "image/png": "[encoded data removed]",
      "text/plain": [
       "<Figure size 1080x504 with 1 Axes>"
      ]
     },
     "metadata": {
      "needs_background": "light"
     },
     "output_type": "display_data"
    }
   ],
   "source": [
    "plt.figure(figsize=(15, 7))\n",
    "plt.plot(_test_df['y'], color='r', label=\"actual\")\n",
    "plt.plot(_test_df['arima_forecast'], label=\"arima\")\n",
    "plt.plot(_test_df['fbprophet_prediction'], label=\"prophet\")\n",
    "plt.plot(_test_df['silverkyte_forecast'], label=\"silverkyte\")\n",
    "\n",
    "plt.legend()\n",
    "plt.grid(True)"
   ]
  },
  {
   "cell_type": "code",
   "execution_count": null,
   "metadata": {},
   "outputs": [],
   "source": []
  }
 ],
 "metadata": {
  "kernelspec": {
   "display_name": "Python 3",
   "language": "python",
   "name": "python3"
  },
  "language_info": {
   "codemirror_mode": {
    "name": "ipython",
    "version": 3
   },
   "file_extension": ".py",
   "mimetype": "text/x-python",
   "name": "python",
   "nbconvert_exporter": "python",
   "pygments_lexer": "ipython3",
   "version": "3.6.4"
  },
  "toc": {
   "base_numbering": 1,
   "nav_menu": {},
   "number_sections": true,
   "sideBar": true,
   "skip_h1_title": false,
   "title_cell": "Table of Contents",
   "title_sidebar": "Contents",
   "toc_cell": false,
   "toc_position": {},
   "toc_section_display": true,
   "toc_window_display": false
  }
 },
 "nbformat": 4,
 "nbformat_minor": 4
}
